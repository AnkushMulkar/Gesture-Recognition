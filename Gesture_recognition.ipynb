{
 "cells": [
  {
   "cell_type": "markdown",
   "id": "f1f7b902",
   "metadata": {},
   "source": [
    "# Problem Statement\n",
    "Imagine you are working as a data scientist at a home electronics company which manufactures state of the art smart televisions. You want to develop a cool feature in the smart-TV that can recognise five different gestures performed by the user which will help users control the TV without using a remote. \n",
    "\n",
    "The gestures are continuously monitored by the webcam mounted on the TV. Each gesture corresponds to a specific command: <br>\n",
    "\n",
    "Thumbs up:  Increase the volume <br>\n",
    "Thumbs down: Decrease the volume <br>\n",
    "Left swipe: 'Jump' backwards 10 seconds <br>\n",
    "Right swipe: 'Jump' forward 10 seconds  <br>\n",
    "Stop: Pause the movie\n",
    "\n",
    "### Objectives: <br>\n",
    "#### Generator:  \n",
    "The generator should be able to take a batch of videos as input without any error. Steps like cropping, resizing and normalization should be performed successfully. <br>\n",
    "\n",
    "#### Model: \n",
    "Develop a model that is able to train without any errors which will be judged on the total number of parameters (as the inference(prediction) time should be less) and the accuracy achieved. As suggested by Snehansu, start training on a small amount of data and then proceed further. <br>\n",
    "\n",
    "#### Write up:\n",
    "This should contain the detailed procedure followed in choosing the final model. The write up should start with the reason for choosing the base model, then highlight the reasons and metrics taken into consideration to modify and experiment to arrive at the final model."
   ]
  },
  {
   "cell_type": "markdown",
   "id": "012e1cce",
   "metadata": {},
   "source": [
    "### Importing Important Libraries"
   ]
  },
  {
   "cell_type": "code",
   "execution_count": 1,
   "id": "38a364a3",
   "metadata": {},
   "outputs": [],
   "source": [
    "import tensorflow as tf\n",
    "import warnings\n",
    "warnings.filterwarnings('ignore')"
   ]
  },
  {
   "cell_type": "code",
   "execution_count": 2,
   "id": "790449ff",
   "metadata": {},
   "outputs": [
    {
     "data": {
      "text/plain": [
       "True"
      ]
     },
     "execution_count": 2,
     "metadata": {},
     "output_type": "execute_result"
    }
   ],
   "source": [
    "tf.test.is_built_with_cuda()"
   ]
  },
  {
   "cell_type": "code",
   "execution_count": 3,
   "id": "8dd93b01",
   "metadata": {},
   "outputs": [
    {
     "name": "stdout",
     "output_type": "stream",
     "text": [
      "[name: \"/device:CPU:0\"\n",
      "device_type: \"CPU\"\n",
      "memory_limit: 268435456\n",
      "locality {\n",
      "}\n",
      "incarnation: 3557161673922255992\n",
      "xla_global_id: -1\n",
      ", name: \"/device:GPU:0\"\n",
      "device_type: \"GPU\"\n",
      "memory_limit: 15522398208\n",
      "locality {\n",
      "  bus_id: 1\n",
      "  links {\n",
      "  }\n",
      "}\n",
      "incarnation: 3459080086983659665\n",
      "physical_device_desc: \"device: 0, name: Quadro RTX 5000, pci bus id: 0000:1d:00.0, compute capability: 7.5\"\n",
      "xla_global_id: 416903419\n",
      "]\n"
     ]
    },
    {
     "name": "stderr",
     "output_type": "stream",
     "text": [
      "2022-06-14 07:01:08.511290: W tensorflow/core/common_runtime/gpu/gpu_bfc_allocator.cc:39] Overriding allow_growth setting because the TF_FORCE_GPU_ALLOW_GROWTH environment variable is set. Original config value was 0.\n",
      "2022-06-14 07:01:08.511372: I tensorflow/core/common_runtime/gpu/gpu_device.cc:1525] Created device /device:GPU:0 with 14803 MB memory:  -> device: 0, name: Quadro RTX 5000, pci bus id: 0000:1d:00.0, compute capability: 7.5\n"
     ]
    }
   ],
   "source": [
    "from tensorflow.python.client import device_lib\n",
    "print(device_lib.list_local_devices())"
   ]
  },
  {
   "cell_type": "code",
   "execution_count": 4,
   "id": "d94d6aa2",
   "metadata": {},
   "outputs": [],
   "source": [
    "import numpy as np\n",
    "import os\n",
    "from skimage.io import imread\n",
    "import datetime\n",
    "import os\n",
    "import warnings\n",
    "warnings.filterwarnings(\"ignore\")\n",
    "import abc\n",
    "from sys import getsizeof\n",
    "\n",
    "np.random.seed(30)\n",
    "import random as rn\n",
    "rn.seed(30)\n",
    "import cv2\n",
    "import matplotlib.pyplot as plt\n",
    "\n",
    "# importing some other libraries which will be needed for model building.\n",
    "\n",
    "from keras.models import Sequential, Model\n",
    "from keras.layers import Dense, GRU, Flatten, TimeDistributed, Flatten, BatchNormalization, Activation\n",
    "from keras.layers.convolutional import Conv3D, MaxPooling3D, Conv2D, MaxPooling2D\n",
    "from keras.layers.recurrent import LSTM\n",
    "from keras.callbacks import ModelCheckpoint, ReduceLROnPlateau, EarlyStopping\n",
    "from keras import optimizers\n",
    "from keras.layers import Dropout"
   ]
  },
  {
   "cell_type": "markdown",
   "id": "650cca8d",
   "metadata": {},
   "source": [
    "### Load the dataset"
   ]
  },
  {
   "cell_type": "code",
   "execution_count": 5,
   "id": "ce362391",
   "metadata": {},
   "outputs": [],
   "source": [
    "project_folder='/datasets/Project_data'"
   ]
  },
  {
   "cell_type": "markdown",
   "id": "dfd07f65",
   "metadata": {},
   "source": [
    "### Generator\n",
    "This is one of the most important part of the code. The overall structure of the generator has been given. In the generator, you are going to preprocess the images as you have images of 2 different dimensions as well as create a batch of video frames. You have to experiment with img_idx, y,z and normalization such that you get high accuracy."
   ]
  },
  {
   "cell_type": "code",
   "execution_count": 6,
   "id": "88b4fe41",
   "metadata": {},
   "outputs": [],
   "source": [
    "class ModelBuilder(metaclass= abc.ABCMeta):\n",
    "    # initialisng the path where project data resides\n",
    "    def initialize_path(self,project_folder):\n",
    "        self.train_doc = np.random.permutation(open(project_folder + '/' + 'train.csv').readlines())\n",
    "        self.val_doc = np.random.permutation(open(project_folder + '/' + 'val.csv').readlines())\n",
    "        self.train_path = project_folder + '/' + 'train'\n",
    "        self.val_path =  project_folder + '/' + 'val'\n",
    "        self.num_train_sequences = len(self.train_doc)\n",
    "        self.num_val_sequences = len(self.val_doc)\n",
    "    # initialising the image properties    \n",
    "    def initialize_image_properties(self,image_height=100,image_width=100):\n",
    "        self.image_height=image_height\n",
    "        self.image_width=image_width\n",
    "        self.channels=3\n",
    "        self.num_classes=5\n",
    "        self.total_frames=30\n",
    "    # initialising the batch size, frames to sample and the no. of epochs\n",
    "    def initialize_hyperparams(self,frames_to_sample=30,batch_size=20,num_epochs=20):\n",
    "        self.frames_to_sample=frames_to_sample\n",
    "        self.batch_size=batch_size\n",
    "        self.num_epochs=num_epochs\n",
    "        \n",
    "    # MOST IMPORTANT PART HERE - The generator function        \n",
    "    def generator(self,source_path, folder_list, augment=False):\n",
    "        img_idx = np.round(np.linspace(0,self.total_frames-1,self.frames_to_sample)).astype(int)\n",
    "        batch_size=self.batch_size\n",
    "        while True:\n",
    "            t = np.random.permutation(folder_list)\n",
    "            num_batches = len(t)//batch_size\n",
    "        \n",
    "            for batch in range(num_batches): \n",
    "                batch_data, batch_labels= self.one_batch_data(source_path,t,batch,batch_size,img_idx,augment)\n",
    "                yield batch_data, batch_labels \n",
    "\n",
    "            remaining_seq=len(t)%batch_size\n",
    "        \n",
    "            if (remaining_seq != 0):\n",
    "                batch_data, batch_labels= self.one_batch_data(source_path,t,num_batches,batch_size,img_idx,augment,remaining_seq)\n",
    "                yield batch_data, batch_labels \n",
    "    \n",
    "    \n",
    "    def one_batch_data(self,source_path,t,batch,batch_size,img_idx,augment,remaining_seq=0):\n",
    "    \n",
    "        seq_len = remaining_seq if remaining_seq else batch_size\n",
    "    \n",
    "        batch_data = np.zeros((seq_len,len(img_idx),self.image_height,self.image_width,self.channels)) \n",
    "        batch_labels = np.zeros((seq_len,self.num_classes)) \n",
    "    \n",
    "        if (augment): batch_data_aug = np.zeros((seq_len,len(img_idx),self.image_height,self.image_width,self.channels))\n",
    "\n",
    "        \n",
    "        for folder in range(seq_len): \n",
    "            imgs = os.listdir(source_path+'/'+ t[folder + (batch*batch_size)].split(';')[0]) \n",
    "            for idx,item in enumerate(img_idx):\n",
    "                #performing image reading and resizing\n",
    "                image = imread(source_path+'/'+ t[folder + (batch*batch_size)].strip().split(';')[0]+'/'+imgs[item]).astype(np.float32)\n",
    "                image_resized=cv2.resize(image,(self.image_height,self.image_width))\n",
    "            \n",
    "                #normalizing the images\n",
    "                batch_data[folder,idx,:,:,0] = (image_resized[:,:,0])/255\n",
    "                batch_data[folder,idx,:,:,1] = (image_resized[:,:,1])/255\n",
    "                batch_data[folder,idx,:,:,2] = (image_resized[:,:,2])/255\n",
    "            \n",
    "                if (augment):\n",
    "                    shifted = cv2.warpAffine(image, \n",
    "                                             np.float32([[1, 0, np.random.randint(-30,30)],[0, 1, np.random.randint(-30,30)]]), \n",
    "                                            (image.shape[1], image.shape[0]))\n",
    "                    \n",
    "                    gray = cv2.cvtColor(shifted,cv2.COLOR_BGR2GRAY)\n",
    "\n",
    "                    x0, y0 = np.argwhere(gray > 0).min(axis=0)\n",
    "                    x1, y1 = np.argwhere(gray > 0).max(axis=0) \n",
    "                    # cropping the images to have the targeted gestures and remove the noise from the images.\n",
    "                \n",
    "                    \n",
    "                    image_resized=cv2.resize((self.image_height,self.image_width))\n",
    "                    \n",
    "                    #shifted = cv2.warpAffine(image_resized, \n",
    "                    #                        np.float32([[1, 0, np.random.randint(-3,3)],[0, 1, np.random.randint(-3,3)]]), \n",
    "                    #                        (image_resized.shape[1], image_resized.shape[0]))\n",
    "            \n",
    "                    batch_data_aug[folder,idx,:,:,0] = (image_resized[:,:,0])/255\n",
    "                    batch_data_aug[folder,idx,:,:,1] = (image_resized[:,:,1])/255\n",
    "                    batch_data_aug[folder,idx,:,:,2] = (image_resized[:,:,2])/255\n",
    "                \n",
    "            \n",
    "            batch_labels[folder, int(t[folder + (batch*batch_size)].strip().split(';')[2])] = 1\n",
    "            \n",
    "    \n",
    "        if (augment):\n",
    "            batch_data=np.concatenate([batch_data,batch_data_aug])\n",
    "            batch_labels=np.concatenate([batch_labels,batch_labels])\n",
    "\n",
    "        \n",
    "        return(batch_data,batch_labels)\n",
    "    \n",
    "    \n",
    "    def train_model(self, model, augment_data=False):\n",
    "        train_generator = self.generator(self.train_path, self.train_doc,augment=augment_data)\n",
    "        val_generator = self.generator(self.val_path, self.val_doc)\n",
    "\n",
    "        model_name = 'model_init' + '_' + str(datetime.datetime.now()).replace(' ','').replace(':','_') + '/'\n",
    "    \n",
    "        if not os.path.exists(model_name):\n",
    "            os.mkdir(model_name)\n",
    "        \n",
    "        filepath = model_name + 'model-{epoch:05d}-{loss:.5f}-{categorical_accuracy:.5f}-{val_loss:.5f}-{val_categorical_accuracy:.5f}.h5'\n",
    "\n",
    "        checkpoint = ModelCheckpoint(filepath, monitor='val_loss', verbose=1, save_best_only=True, save_weights_only=False, mode='auto', period=1)\n",
    "        LR = ReduceLROnPlateau(monitor='val_loss', factor=0.2, verbose=1, patience=4)\n",
    "        \n",
    "        earlystop = EarlyStopping( monitor=\"val_loss\", min_delta=0,patience=10,verbose=1)\n",
    "        callbacks_list = [checkpoint, LR, earlystop]\n",
    "\n",
    "        if (self.num_train_sequences%self.batch_size) == 0:\n",
    "            steps_per_epoch = int(self.num_train_sequences/self.batch_size)\n",
    "        else:\n",
    "            steps_per_epoch = (self.num_train_sequences//self.batch_size) + 1\n",
    "\n",
    "        if (self.num_val_sequences%self.batch_size) == 0:\n",
    "            validation_steps = int(self.num_val_sequences/self.batch_size)\n",
    "        else:\n",
    "            validation_steps = (self.num_val_sequences//self.batch_size) + 1\n",
    "    \n",
    "        history=model.fit_generator(train_generator, steps_per_epoch=steps_per_epoch, epochs=self.num_epochs, verbose=1, \n",
    "                            callbacks=callbacks_list, validation_data=val_generator, \n",
    "                            validation_steps=validation_steps, class_weight=None, workers=1, initial_epoch=0)\n",
    "        return history\n",
    "\n",
    "        \n",
    "    @abc.abstractmethod\n",
    "    def define_model(self):\n",
    "        pass"
   ]
  },
  {
   "cell_type": "code",
   "execution_count": 7,
   "id": "9e27a8d2",
   "metadata": {},
   "outputs": [],
   "source": [
    "# function to plot the training/validation accuracies/losses.\n",
    "\n",
    "def plot(history):\n",
    "    fig, axes = plt.subplots(nrows=1, ncols=2, figsize=(15,4))\n",
    "    axes[0].plot(history.history['loss'])   \n",
    "    axes[0].plot(history.history['val_loss'])\n",
    "    axes[0].legend(['loss','val_loss'])\n",
    "    axes[1].plot(history.history['categorical_accuracy'])   \n",
    "    axes[1].plot(history.history['val_categorical_accuracy'])\n",
    "    axes[1].legend(['categorical_accuracy','val_categorical_accuracy'])"
   ]
  },
  {
   "cell_type": "markdown",
   "id": "52947c84",
   "metadata": {},
   "source": [
    "### Model\n",
    "Here you make the model using different functionalities that Keras provides. Remember to use Conv3D and MaxPooling3D and not Conv2D and Maxpooling2D for a 3D convolution model. You would want to use TimeDistributed while building a Conv2D + RNN model. Also remember that the last layer is the softmax. Design the network in such a way that the model is able to give good accuracy on the least number of parameters so that it can fit in the memory of the webcam."
   ]
  },
  {
   "cell_type": "markdown",
   "id": "5f8c76cc",
   "metadata": {},
   "source": [
    "### Sample Model"
   ]
  },
  {
   "cell_type": "code",
   "execution_count": 8,
   "id": "a3d69fb2",
   "metadata": {},
   "outputs": [],
   "source": [
    "class ModelConv3D1(ModelBuilder):\n",
    "    \n",
    "    def define_model(self):\n",
    "\n",
    "        model = Sequential()\n",
    "        model.add(Conv3D(16, (3, 3, 3), padding='same',\n",
    "                 input_shape=(self.frames_to_sample,self.image_height,self.image_width,self.channels)))\n",
    "        model.add(Activation('relu'))\n",
    "        model.add(BatchNormalization())\n",
    "        model.add(MaxPooling3D(pool_size=(2, 2, 2)))\n",
    "\n",
    "        model.add(Conv3D(32, (2, 2, 2), padding='same'))\n",
    "        model.add(Activation('relu'))\n",
    "        model.add(BatchNormalization())\n",
    "        model.add(MaxPooling3D(pool_size=(2, 2, 2)))\n",
    "\n",
    "        model.add(Conv3D(64, (2, 2, 2), padding='same'))\n",
    "        model.add(Activation('relu'))\n",
    "        model.add(BatchNormalization())\n",
    "        model.add(MaxPooling3D(pool_size=(2, 2, 2)))\n",
    "\n",
    "        model.add(Conv3D(128, (2, 2, 2), padding='same'))\n",
    "        model.add(Activation('relu'))\n",
    "        model.add(BatchNormalization())\n",
    "        model.add(MaxPooling3D(pool_size=(2, 2, 2)))\n",
    "\n",
    "        model.add(Flatten())\n",
    "        model.add(Dense(128,activation='relu'))\n",
    "        model.add(BatchNormalization())\n",
    "        model.add(Dropout(0.5))\n",
    "\n",
    "        model.add(Dense(64,activation='relu'))\n",
    "        model.add(BatchNormalization())\n",
    "        model.add(Dropout(0.25))\n",
    "\n",
    "\n",
    "        model.add(Dense(self.num_classes,activation='softmax'))\n",
    "\n",
    "        optimiser = tf.optimizers.Adam()\n",
    "        #optimiser = 'sgd'\n",
    "        model.compile(optimizer=optimiser, loss='categorical_crossentropy', metrics=['categorical_accuracy'])\n",
    "        return model"
   ]
  },
  {
   "cell_type": "markdown",
   "id": "c6ee4f2e",
   "metadata": {},
   "source": [
    "### Model 1\n",
    "Base Model - Batch Size = 30 and No. of Epochs = 1"
   ]
  },
  {
   "cell_type": "code",
   "execution_count": 9,
   "id": "19cd87aa",
   "metadata": {},
   "outputs": [
    {
     "name": "stdout",
     "output_type": "stream",
     "text": [
      "Model: \"sequential\"\n",
      "_________________________________________________________________\n",
      " Layer (type)                Output Shape              Param #   \n",
      "=================================================================\n",
      " conv3d (Conv3D)             (None, 30, 160, 160, 16)  1312      \n",
      "                                                                 \n",
      " activation (Activation)     (None, 30, 160, 160, 16)  0         \n",
      "                                                                 \n",
      " batch_normalization (BatchN  (None, 30, 160, 160, 16)  64       \n",
      " ormalization)                                                   \n",
      "                                                                 \n",
      " max_pooling3d (MaxPooling3D  (None, 15, 80, 80, 16)   0         \n",
      " )                                                               \n",
      "                                                                 \n",
      " conv3d_1 (Conv3D)           (None, 15, 80, 80, 32)    4128      \n",
      "                                                                 \n",
      " activation_1 (Activation)   (None, 15, 80, 80, 32)    0         \n",
      "                                                                 \n",
      " batch_normalization_1 (Batc  (None, 15, 80, 80, 32)   128       \n",
      " hNormalization)                                                 \n",
      "                                                                 \n",
      " max_pooling3d_1 (MaxPooling  (None, 7, 40, 40, 32)    0         \n",
      " 3D)                                                             \n",
      "                                                                 \n",
      " conv3d_2 (Conv3D)           (None, 7, 40, 40, 64)     16448     \n",
      "                                                                 \n",
      " activation_2 (Activation)   (None, 7, 40, 40, 64)     0         \n",
      "                                                                 \n",
      " batch_normalization_2 (Batc  (None, 7, 40, 40, 64)    256       \n",
      " hNormalization)                                                 \n",
      "                                                                 \n",
      " max_pooling3d_2 (MaxPooling  (None, 3, 20, 20, 64)    0         \n",
      " 3D)                                                             \n",
      "                                                                 \n",
      " conv3d_3 (Conv3D)           (None, 3, 20, 20, 128)    65664     \n",
      "                                                                 \n",
      " activation_3 (Activation)   (None, 3, 20, 20, 128)    0         \n",
      "                                                                 \n",
      " batch_normalization_3 (Batc  (None, 3, 20, 20, 128)   512       \n",
      " hNormalization)                                                 \n",
      "                                                                 \n",
      " max_pooling3d_3 (MaxPooling  (None, 1, 10, 10, 128)   0         \n",
      " 3D)                                                             \n",
      "                                                                 \n",
      " flatten (Flatten)           (None, 12800)             0         \n",
      "                                                                 \n",
      " dense (Dense)               (None, 128)               1638528   \n",
      "                                                                 \n",
      " batch_normalization_4 (Batc  (None, 128)              512       \n",
      " hNormalization)                                                 \n",
      "                                                                 \n",
      " dropout (Dropout)           (None, 128)               0         \n",
      "                                                                 \n",
      " dense_1 (Dense)             (None, 64)                8256      \n",
      "                                                                 \n",
      " batch_normalization_5 (Batc  (None, 64)               256       \n",
      " hNormalization)                                                 \n",
      "                                                                 \n",
      " dropout_1 (Dropout)         (None, 64)                0         \n",
      "                                                                 \n",
      " dense_2 (Dense)             (None, 5)                 325       \n",
      "                                                                 \n",
      "=================================================================\n",
      "Total params: 1,736,389\n",
      "Trainable params: 1,735,525\n",
      "Non-trainable params: 864\n",
      "_________________________________________________________________\n"
     ]
    },
    {
     "name": "stderr",
     "output_type": "stream",
     "text": [
      "2022-06-14 07:02:43.744611: I tensorflow/core/common_runtime/gpu/gpu_device.cc:1525] Created device /job:localhost/replica:0/task:0/device:GPU:0 with 14803 MB memory:  -> device: 0, name: Quadro RTX 5000, pci bus id: 0000:1d:00.0, compute capability: 7.5\n"
     ]
    }
   ],
   "source": [
    "conv_3d1=ModelConv3D1()\n",
    "conv_3d1.initialize_path(project_folder)\n",
    "conv_3d1.initialize_image_properties(image_height=160,image_width=160)\n",
    "conv_3d1.initialize_hyperparams(frames_to_sample=30,batch_size=10,num_epochs=1)\n",
    "conv_3d1_model=conv_3d1.define_model()\n",
    "conv_3d1_model.summary()"
   ]
  },
  {
   "cell_type": "code",
   "execution_count": 10,
   "id": "f7e526a3",
   "metadata": {},
   "outputs": [
    {
     "name": "stdout",
     "output_type": "stream",
     "text": [
      "Total Params: 1736389\n",
      "WARNING:tensorflow:`period` argument is deprecated. Please use `save_freq` to specify the frequency in number of batches seen.\n"
     ]
    },
    {
     "name": "stderr",
     "output_type": "stream",
     "text": [
      "2022-06-14 07:02:59.322154: I tensorflow/stream_executor/cuda/cuda_dnn.cc:377] Loaded cuDNN version 8302\n"
     ]
    },
    {
     "name": "stdout",
     "output_type": "stream",
     "text": [
      "67/67 [==============================] - ETA: 0s - loss: 1.4966 - categorical_accuracy: 0.4404\n",
      "Epoch 00001: val_loss improved from inf to 5.43965, saving model to model_init_2022-06-1407_02_56.454336/model-00001-1.49656-0.44042-5.43965-0.16000.h5\n",
      "67/67 [==============================] - 79s 1s/step - loss: 1.4966 - categorical_accuracy: 0.4404 - val_loss: 5.4397 - val_categorical_accuracy: 0.1600 - lr: 0.0010\n"
     ]
    }
   ],
   "source": [
    "print(\"Total Params:\", conv_3d1_model.count_params())\n",
    "history_model1 = conv_3d1.train_model(conv_3d1_model)"
   ]
  },
  {
   "cell_type": "code",
   "execution_count": 11,
   "id": "bda3f829",
   "metadata": {},
   "outputs": [
    {
     "name": "stdout",
     "output_type": "stream",
     "text": [
      "Memory util is 3.662109524011612 Gigs\n"
     ]
    }
   ],
   "source": [
    "print(\"Memory util is {} Gigs\". format(getsizeof(np.zeros((40,16,30,160,160)))/(1024*1024*1024)))"
   ]
  },
  {
   "cell_type": "markdown",
   "id": "b836577a",
   "metadata": {},
   "source": [
    "### Model 2\n",
    "Adding dropout layers - Batch Size = 20 and No. of Epochs = 25"
   ]
  },
  {
   "cell_type": "code",
   "execution_count": 12,
   "id": "8b5a70c0",
   "metadata": {},
   "outputs": [
    {
     "name": "stdout",
     "output_type": "stream",
     "text": [
      "Model: \"sequential_1\"\n",
      "_________________________________________________________________\n",
      " Layer (type)                Output Shape              Param #   \n",
      "=================================================================\n",
      " conv3d_4 (Conv3D)           (None, 20, 160, 160, 16)  1312      \n",
      "                                                                 \n",
      " activation_4 (Activation)   (None, 20, 160, 160, 16)  0         \n",
      "                                                                 \n",
      " batch_normalization_6 (Batc  (None, 20, 160, 160, 16)  64       \n",
      " hNormalization)                                                 \n",
      "                                                                 \n",
      " max_pooling3d_4 (MaxPooling  (None, 10, 80, 80, 16)   0         \n",
      " 3D)                                                             \n",
      "                                                                 \n",
      " conv3d_5 (Conv3D)           (None, 10, 80, 80, 32)    4128      \n",
      "                                                                 \n",
      " activation_5 (Activation)   (None, 10, 80, 80, 32)    0         \n",
      "                                                                 \n",
      " batch_normalization_7 (Batc  (None, 10, 80, 80, 32)   128       \n",
      " hNormalization)                                                 \n",
      "                                                                 \n",
      " max_pooling3d_5 (MaxPooling  (None, 5, 40, 40, 32)    0         \n",
      " 3D)                                                             \n",
      "                                                                 \n",
      " conv3d_6 (Conv3D)           (None, 5, 40, 40, 64)     16448     \n",
      "                                                                 \n",
      " activation_6 (Activation)   (None, 5, 40, 40, 64)     0         \n",
      "                                                                 \n",
      " batch_normalization_8 (Batc  (None, 5, 40, 40, 64)    256       \n",
      " hNormalization)                                                 \n",
      "                                                                 \n",
      " max_pooling3d_6 (MaxPooling  (None, 2, 20, 20, 64)    0         \n",
      " 3D)                                                             \n",
      "                                                                 \n",
      " conv3d_7 (Conv3D)           (None, 2, 20, 20, 128)    65664     \n",
      "                                                                 \n",
      " activation_7 (Activation)   (None, 2, 20, 20, 128)    0         \n",
      "                                                                 \n",
      " batch_normalization_9 (Batc  (None, 2, 20, 20, 128)   512       \n",
      " hNormalization)                                                 \n",
      "                                                                 \n",
      " max_pooling3d_7 (MaxPooling  (None, 1, 10, 10, 128)   0         \n",
      " 3D)                                                             \n",
      "                                                                 \n",
      " flatten_1 (Flatten)         (None, 12800)             0         \n",
      "                                                                 \n",
      " dense_3 (Dense)             (None, 128)               1638528   \n",
      "                                                                 \n",
      " batch_normalization_10 (Bat  (None, 128)              512       \n",
      " chNormalization)                                                \n",
      "                                                                 \n",
      " dropout_2 (Dropout)         (None, 128)               0         \n",
      "                                                                 \n",
      " dense_4 (Dense)             (None, 64)                8256      \n",
      "                                                                 \n",
      " batch_normalization_11 (Bat  (None, 64)               256       \n",
      " chNormalization)                                                \n",
      "                                                                 \n",
      " dropout_3 (Dropout)         (None, 64)                0         \n",
      "                                                                 \n",
      " dense_5 (Dense)             (None, 5)                 325       \n",
      "                                                                 \n",
      "=================================================================\n",
      "Total params: 1,736,389\n",
      "Trainable params: 1,735,525\n",
      "Non-trainable params: 864\n",
      "_________________________________________________________________\n"
     ]
    }
   ],
   "source": [
    "conv_3d2=ModelConv3D1()\n",
    "conv_3d2.initialize_path(project_folder)\n",
    "conv_3d2.initialize_image_properties(image_height=160,image_width=160)\n",
    "conv_3d2.initialize_hyperparams(frames_to_sample=20,batch_size=20,num_epochs=25)\n",
    "conv_3d2_model=conv_3d2.define_model()\n",
    "conv_3d2_model.summary()"
   ]
  },
  {
   "cell_type": "code",
   "execution_count": 13,
   "id": "5be76744",
   "metadata": {},
   "outputs": [
    {
     "name": "stdout",
     "output_type": "stream",
     "text": [
      "Total Params: 1736389\n",
      "WARNING:tensorflow:`period` argument is deprecated. Please use `save_freq` to specify the frequency in number of batches seen.\n",
      "Epoch 1/25\n",
      "34/34 [==============================] - ETA: 0s - loss: 1.5787 - categorical_accuracy: 0.4057\n",
      "Epoch 00001: val_loss improved from inf to 3.58246, saving model to model_init_2022-06-1407_05_23.204682/model-00001-1.57865-0.40573-3.58246-0.21000.h5\n",
      "34/34 [==============================] - 51s 1s/step - loss: 1.5787 - categorical_accuracy: 0.4057 - val_loss: 3.5825 - val_categorical_accuracy: 0.2100 - lr: 0.0010\n",
      "Epoch 2/25\n",
      "34/34 [==============================] - ETA: 0s - loss: 0.9134 - categorical_accuracy: 0.6486\n",
      "Epoch 00002: val_loss did not improve from 3.58246\n",
      "34/34 [==============================] - 50s 2s/step - loss: 0.9134 - categorical_accuracy: 0.6486 - val_loss: 7.2815 - val_categorical_accuracy: 0.1900 - lr: 0.0010\n",
      "Epoch 3/25\n",
      "34/34 [==============================] - ETA: 0s - loss: 0.8071 - categorical_accuracy: 0.6908\n",
      "Epoch 00003: val_loss did not improve from 3.58246\n",
      "34/34 [==============================] - 49s 1s/step - loss: 0.8071 - categorical_accuracy: 0.6908 - val_loss: 9.6963 - val_categorical_accuracy: 0.2200 - lr: 0.0010\n",
      "Epoch 4/25\n",
      "34/34 [==============================] - ETA: 0s - loss: 0.5936 - categorical_accuracy: 0.7617\n",
      "Epoch 00004: val_loss did not improve from 3.58246\n",
      "34/34 [==============================] - 48s 1s/step - loss: 0.5936 - categorical_accuracy: 0.7617 - val_loss: 9.7875 - val_categorical_accuracy: 0.2100 - lr: 0.0010\n",
      "Epoch 5/25\n",
      "33/34 [============================>.] - ETA: 1s - loss: 0.4295 - categorical_accuracy: 0.8485\n",
      "Epoch 00005: val_loss did not improve from 3.58246\n",
      "\n",
      "Epoch 00005: ReduceLROnPlateau reducing learning rate to 0.00020000000949949026.\n",
      "34/34 [==============================] - 49s 1s/step - loss: 0.4324 - categorical_accuracy: 0.8462 - val_loss: 5.8350 - val_categorical_accuracy: 0.2300 - lr: 0.0010\n",
      "Epoch 6/25\n",
      "33/34 [============================>.] - ETA: 1s - loss: 0.3337 - categorical_accuracy: 0.8894\n",
      "Epoch 00006: val_loss did not improve from 3.58246\n",
      "34/34 [==============================] - 49s 1s/step - loss: 0.3396 - categorical_accuracy: 0.8884 - val_loss: 4.9505 - val_categorical_accuracy: 0.2200 - lr: 2.0000e-04\n",
      "Epoch 7/25\n",
      "33/34 [============================>.] - ETA: 1s - loss: 0.3334 - categorical_accuracy: 0.8848\n",
      "Epoch 00007: val_loss did not improve from 3.58246\n",
      "34/34 [==============================] - 49s 1s/step - loss: 0.3354 - categorical_accuracy: 0.8839 - val_loss: 4.6646 - val_categorical_accuracy: 0.2800 - lr: 2.0000e-04\n",
      "Epoch 8/25\n",
      "33/34 [============================>.] - ETA: 1s - loss: 0.2808 - categorical_accuracy: 0.9106\n",
      "Epoch 00008: val_loss did not improve from 3.58246\n",
      "34/34 [==============================] - 49s 1s/step - loss: 0.2797 - categorical_accuracy: 0.9110 - val_loss: 4.9020 - val_categorical_accuracy: 0.2900 - lr: 2.0000e-04\n",
      "Epoch 9/25\n",
      "33/34 [============================>.] - ETA: 1s - loss: 0.2744 - categorical_accuracy: 0.9091\n",
      "Epoch 00009: val_loss did not improve from 3.58246\n",
      "\n",
      "Epoch 00009: ReduceLROnPlateau reducing learning rate to 4.0000001899898055e-05.\n",
      "34/34 [==============================] - 48s 1s/step - loss: 0.2733 - categorical_accuracy: 0.9095 - val_loss: 3.9851 - val_categorical_accuracy: 0.3100 - lr: 2.0000e-04\n",
      "Epoch 10/25\n",
      "33/34 [============================>.] - ETA: 1s - loss: 0.2277 - categorical_accuracy: 0.9348\n",
      "Epoch 00010: val_loss improved from 3.58246 to 3.27373, saving model to model_init_2022-06-1407_05_23.204682/model-00010-0.22803-0.93363-3.27373-0.35000.h5\n",
      "34/34 [==============================] - 49s 1s/step - loss: 0.2280 - categorical_accuracy: 0.9336 - val_loss: 3.2737 - val_categorical_accuracy: 0.3500 - lr: 4.0000e-05\n",
      "Epoch 11/25\n",
      "33/34 [============================>.] - ETA: 1s - loss: 0.2459 - categorical_accuracy: 0.9333\n",
      "Epoch 00011: val_loss improved from 3.27373 to 2.92094, saving model to model_init_2022-06-1407_05_23.204682/model-00011-0.24631-0.93363-2.92094-0.30000.h5\n",
      "34/34 [==============================] - 49s 1s/step - loss: 0.2463 - categorical_accuracy: 0.9336 - val_loss: 2.9209 - val_categorical_accuracy: 0.3000 - lr: 4.0000e-05\n",
      "Epoch 12/25\n",
      "33/34 [============================>.] - ETA: 1s - loss: 0.2293 - categorical_accuracy: 0.9379\n",
      "Epoch 00012: val_loss improved from 2.92094 to 2.36716, saving model to model_init_2022-06-1407_05_23.204682/model-00012-0.24811-0.93363-2.36716-0.29000.h5\n",
      "34/34 [==============================] - 49s 1s/step - loss: 0.2481 - categorical_accuracy: 0.9336 - val_loss: 2.3672 - val_categorical_accuracy: 0.2900 - lr: 4.0000e-05\n",
      "Epoch 13/25\n",
      "34/34 [==============================] - ETA: 0s - loss: 0.2231 - categorical_accuracy: 0.9382\n",
      "Epoch 00013: val_loss improved from 2.36716 to 1.77712, saving model to model_init_2022-06-1407_05_23.204682/model-00013-0.22310-0.93816-1.77712-0.43000.h5\n",
      "34/34 [==============================] - 48s 1s/step - loss: 0.2231 - categorical_accuracy: 0.9382 - val_loss: 1.7771 - val_categorical_accuracy: 0.4300 - lr: 4.0000e-05\n",
      "Epoch 14/25\n",
      "34/34 [==============================] - ETA: 0s - loss: 0.2505 - categorical_accuracy: 0.9231\n",
      "Epoch 00014: val_loss improved from 1.77712 to 1.47459, saving model to model_init_2022-06-1407_05_23.204682/model-00014-0.25052-0.92308-1.47459-0.46000.h5\n",
      "34/34 [==============================] - 49s 1s/step - loss: 0.2505 - categorical_accuracy: 0.9231 - val_loss: 1.4746 - val_categorical_accuracy: 0.4600 - lr: 4.0000e-05\n",
      "Epoch 15/25\n",
      "33/34 [============================>.] - ETA: 1s - loss: 0.2323 - categorical_accuracy: 0.9273\n",
      "Epoch 00015: val_loss improved from 1.47459 to 1.14052, saving model to model_init_2022-06-1407_05_23.204682/model-00015-0.23557-0.92609-1.14052-0.55000.h5\n",
      "34/34 [==============================] - 49s 1s/step - loss: 0.2356 - categorical_accuracy: 0.9261 - val_loss: 1.1405 - val_categorical_accuracy: 0.5500 - lr: 4.0000e-05\n",
      "Epoch 16/25\n",
      "33/34 [============================>.] - ETA: 1s - loss: 0.1866 - categorical_accuracy: 0.9439\n",
      "Epoch 00016: val_loss improved from 1.14052 to 0.82508, saving model to model_init_2022-06-1407_05_23.204682/model-00016-0.18889-0.94268-0.82508-0.64000.h5\n",
      "34/34 [==============================] - 49s 1s/step - loss: 0.1889 - categorical_accuracy: 0.9427 - val_loss: 0.8251 - val_categorical_accuracy: 0.6400 - lr: 4.0000e-05\n",
      "Epoch 17/25\n",
      "33/34 [============================>.] - ETA: 1s - loss: 0.2154 - categorical_accuracy: 0.9394\n",
      "Epoch 00017: val_loss improved from 0.82508 to 0.64183, saving model to model_init_2022-06-1407_05_23.204682/model-00017-0.22167-0.93665-0.64183-0.74000.h5\n",
      "34/34 [==============================] - 50s 2s/step - loss: 0.2217 - categorical_accuracy: 0.9367 - val_loss: 0.6418 - val_categorical_accuracy: 0.7400 - lr: 4.0000e-05\n",
      "Epoch 18/25\n",
      "33/34 [============================>.] - ETA: 1s - loss: 0.2141 - categorical_accuracy: 0.9424\n",
      "Epoch 00018: val_loss improved from 0.64183 to 0.60177, saving model to model_init_2022-06-1407_05_23.204682/model-00018-0.21411-0.94268-0.60177-0.76000.h5\n",
      "34/34 [==============================] - 49s 1s/step - loss: 0.2141 - categorical_accuracy: 0.9427 - val_loss: 0.6018 - val_categorical_accuracy: 0.7600 - lr: 4.0000e-05\n",
      "Epoch 19/25\n",
      "33/34 [============================>.] - ETA: 1s - loss: 0.1857 - categorical_accuracy: 0.9485\n",
      "Epoch 00019: val_loss improved from 0.60177 to 0.40650, saving model to model_init_2022-06-1407_05_23.204682/model-00019-0.18817-0.94721-0.40650-0.89000.h5\n",
      "34/34 [==============================] - 48s 1s/step - loss: 0.1882 - categorical_accuracy: 0.9472 - val_loss: 0.4065 - val_categorical_accuracy: 0.8900 - lr: 4.0000e-05\n",
      "Epoch 20/25\n",
      "33/34 [============================>.] - ETA: 1s - loss: 0.1878 - categorical_accuracy: 0.9485\n",
      "Epoch 00020: val_loss did not improve from 0.40650\n",
      "34/34 [==============================] - 48s 1s/step - loss: 0.1877 - categorical_accuracy: 0.9487 - val_loss: 0.4564 - val_categorical_accuracy: 0.8500 - lr: 4.0000e-05\n",
      "Epoch 21/25\n",
      "33/34 [============================>.] - ETA: 1s - loss: 0.1754 - categorical_accuracy: 0.9576\n",
      "Epoch 00021: val_loss improved from 0.40650 to 0.37254, saving model to model_init_2022-06-1407_05_23.204682/model-00021-0.17752-0.95626-0.37254-0.86000.h5\n",
      "34/34 [==============================] - 49s 1s/step - loss: 0.1775 - categorical_accuracy: 0.9563 - val_loss: 0.3725 - val_categorical_accuracy: 0.8600 - lr: 4.0000e-05\n",
      "Epoch 22/25\n",
      "33/34 [============================>.] - ETA: 1s - loss: 0.1687 - categorical_accuracy: 0.9591\n",
      "Epoch 00022: val_loss improved from 0.37254 to 0.33619, saving model to model_init_2022-06-1407_05_23.204682/model-00022-0.17448-0.95626-0.33619-0.87000.h5\n",
      "34/34 [==============================] - 49s 1s/step - loss: 0.1745 - categorical_accuracy: 0.9563 - val_loss: 0.3362 - val_categorical_accuracy: 0.8700 - lr: 4.0000e-05\n",
      "Epoch 23/25\n",
      "33/34 [============================>.] - ETA: 1s - loss: 0.1905 - categorical_accuracy: 0.9530\n",
      "Epoch 00023: val_loss improved from 0.33619 to 0.32031, saving model to model_init_2022-06-1407_05_23.204682/model-00023-0.19117-0.95173-0.32031-0.86000.h5\n",
      "34/34 [==============================] - 49s 1s/step - loss: 0.1912 - categorical_accuracy: 0.9517 - val_loss: 0.3203 - val_categorical_accuracy: 0.8600 - lr: 4.0000e-05\n",
      "Epoch 24/25\n",
      "33/34 [============================>.] - ETA: 1s - loss: 0.1766 - categorical_accuracy: 0.9455\n",
      "Epoch 00024: val_loss did not improve from 0.32031\n",
      "34/34 [==============================] - 49s 1s/step - loss: 0.1763 - categorical_accuracy: 0.9457 - val_loss: 0.3791 - val_categorical_accuracy: 0.8500 - lr: 4.0000e-05\n",
      "Epoch 25/25\n",
      "34/34 [==============================] - ETA: 0s - loss: 0.2034 - categorical_accuracy: 0.9502\n",
      "Epoch 00025: val_loss improved from 0.32031 to 0.24536, saving model to model_init_2022-06-1407_05_23.204682/model-00025-0.20341-0.95023-0.24536-0.91000.h5\n",
      "34/34 [==============================] - 49s 1s/step - loss: 0.2034 - categorical_accuracy: 0.9502 - val_loss: 0.2454 - val_categorical_accuracy: 0.9100 - lr: 4.0000e-05\n"
     ]
    }
   ],
   "source": [
    "print(\"Total Params:\", conv_3d2_model.count_params())\n",
    "history_model2=conv_3d2.train_model(conv_3d2_model)"
   ]
  },
  {
   "cell_type": "code",
   "execution_count": 14,
   "id": "8d45737d",
   "metadata": {},
   "outputs": [
    {
     "data": {
      "image/png": "[encoded data removed]",
      "text/plain": [
       "<Figure size 1080x288 with 2 Axes>"
      ]
     },
     "metadata": {
      "needs_background": "light"
     },
     "output_type": "display_data"
    }
   ],
   "source": [
    "plot(history_model2)"
   ]
  },
  {
   "cell_type": "markdown",
   "id": "18d2e24e",
   "metadata": {},
   "source": [
    "### Observation\n",
    "we get a best validation accuracy of 91% and training accuracy of 95%."
   ]
  },
  {
   "cell_type": "markdown",
   "id": "781005cd",
   "metadata": {},
   "source": [
    "### Model 4 \n",
    "Adding more layers - Batch Size = 30 and No. of Epochs = 25"
   ]
  },
  {
   "cell_type": "code",
   "execution_count": 15,
   "id": "25067c8c",
   "metadata": {},
   "outputs": [],
   "source": [
    "class ModelConv3D4(ModelBuilder):\n",
    "    \n",
    "    def define_model(self,filtersize=(3,3,3),dense_neurons=64,dropout=0.25):\n",
    "\n",
    "        model = Sequential()\n",
    "        model.add(Conv3D(16, filtersize, padding='same',\n",
    "                 input_shape=(self.frames_to_sample,self.image_height,self.image_width,self.channels)))\n",
    "        model.add(Activation('relu'))\n",
    "        model.add(BatchNormalization())\n",
    "        \n",
    "        model.add(Conv3D(16, filtersize, padding='same',\n",
    "                 input_shape=(self.frames_to_sample,self.image_height,self.image_width,self.channels)))\n",
    "        model.add(Activation('relu'))\n",
    "        model.add(BatchNormalization())\n",
    "        \n",
    "        model.add(MaxPooling3D(pool_size=(2, 2, 2)))\n",
    "\n",
    "        model.add(Conv3D(32, filtersize, padding='same'))\n",
    "        model.add(Activation('relu'))\n",
    "        model.add(BatchNormalization())\n",
    "        \n",
    "        model.add(Conv3D(32, filtersize, padding='same'))\n",
    "        model.add(Activation('relu'))\n",
    "        model.add(BatchNormalization())\n",
    "        \n",
    "        model.add(MaxPooling3D(pool_size=(2, 2, 2)))\n",
    "\n",
    "        model.add(Conv3D(64, filtersize, padding='same'))\n",
    "        model.add(Activation('relu'))\n",
    "        model.add(BatchNormalization())\n",
    "        \n",
    "        model.add(Conv3D(64, filtersize, padding='same'))\n",
    "        model.add(Activation('relu'))\n",
    "        model.add(BatchNormalization())\n",
    "        \n",
    "        model.add(MaxPooling3D(pool_size=(2, 2, 2)))\n",
    "\n",
    "        model.add(Conv3D(128, filtersize, padding='same'))\n",
    "        model.add(Activation('relu'))\n",
    "        model.add(BatchNormalization())\n",
    "        \n",
    "        model.add(Conv3D(128, filtersize, padding='same'))\n",
    "        model.add(Activation('relu'))\n",
    "        model.add(BatchNormalization())\n",
    "        \n",
    "        model.add(MaxPooling3D(pool_size=(2, 2, 2)))\n",
    "        \n",
    "\n",
    "        model.add(Flatten())\n",
    "        model.add(Dense(dense_neurons,activation='relu'))\n",
    "        model.add(BatchNormalization())\n",
    "        model.add(Dropout(dropout))\n",
    "\n",
    "        model.add(Dense(dense_neurons,activation='relu'))\n",
    "        model.add(BatchNormalization())\n",
    "        model.add(Dropout(dropout))\n",
    "\n",
    "\n",
    "        model.add(Dense(self.num_classes,activation='softmax'))\n",
    "\n",
    "        optimiser = tf.optimizers.Adam()\n",
    "        model.compile(optimizer=optimiser, loss='categorical_crossentropy', metrics=['categorical_accuracy'])\n",
    "        return model"
   ]
  },
  {
   "cell_type": "code",
   "execution_count": 16,
   "id": "59061d87",
   "metadata": {},
   "outputs": [
    {
     "name": "stdout",
     "output_type": "stream",
     "text": [
      "Model: \"sequential_2\"\n",
      "_________________________________________________________________\n",
      " Layer (type)                Output Shape              Param #   \n",
      "=================================================================\n",
      " conv3d_8 (Conv3D)           (None, 16, 120, 120, 16)  1312      \n",
      "                                                                 \n",
      " activation_8 (Activation)   (None, 16, 120, 120, 16)  0         \n",
      "                                                                 \n",
      " batch_normalization_12 (Bat  (None, 16, 120, 120, 16)  64       \n",
      " chNormalization)                                                \n",
      "                                                                 \n",
      " conv3d_9 (Conv3D)           (None, 16, 120, 120, 16)  6928      \n",
      "                                                                 \n",
      " activation_9 (Activation)   (None, 16, 120, 120, 16)  0         \n",
      "                                                                 \n",
      " batch_normalization_13 (Bat  (None, 16, 120, 120, 16)  64       \n",
      " chNormalization)                                                \n",
      "                                                                 \n",
      " max_pooling3d_8 (MaxPooling  (None, 8, 60, 60, 16)    0         \n",
      " 3D)                                                             \n",
      "                                                                 \n",
      " conv3d_10 (Conv3D)          (None, 8, 60, 60, 32)     13856     \n",
      "                                                                 \n",
      " activation_10 (Activation)  (None, 8, 60, 60, 32)     0         \n",
      "                                                                 \n",
      " batch_normalization_14 (Bat  (None, 8, 60, 60, 32)    128       \n",
      " chNormalization)                                                \n",
      "                                                                 \n",
      " conv3d_11 (Conv3D)          (None, 8, 60, 60, 32)     27680     \n",
      "                                                                 \n",
      " activation_11 (Activation)  (None, 8, 60, 60, 32)     0         \n",
      "                                                                 \n",
      " batch_normalization_15 (Bat  (None, 8, 60, 60, 32)    128       \n",
      " chNormalization)                                                \n",
      "                                                                 \n",
      " max_pooling3d_9 (MaxPooling  (None, 4, 30, 30, 32)    0         \n",
      " 3D)                                                             \n",
      "                                                                 \n",
      " conv3d_12 (Conv3D)          (None, 4, 30, 30, 64)     55360     \n",
      "                                                                 \n",
      " activation_12 (Activation)  (None, 4, 30, 30, 64)     0         \n",
      "                                                                 \n",
      " batch_normalization_16 (Bat  (None, 4, 30, 30, 64)    256       \n",
      " chNormalization)                                                \n",
      "                                                                 \n",
      " conv3d_13 (Conv3D)          (None, 4, 30, 30, 64)     110656    \n",
      "                                                                 \n",
      " activation_13 (Activation)  (None, 4, 30, 30, 64)     0         \n",
      "                                                                 \n",
      " batch_normalization_17 (Bat  (None, 4, 30, 30, 64)    256       \n",
      " chNormalization)                                                \n",
      "                                                                 \n",
      " max_pooling3d_10 (MaxPoolin  (None, 2, 15, 15, 64)    0         \n",
      " g3D)                                                            \n",
      "                                                                 \n",
      " conv3d_14 (Conv3D)          (None, 2, 15, 15, 128)    221312    \n",
      "                                                                 \n",
      " activation_14 (Activation)  (None, 2, 15, 15, 128)    0         \n",
      "                                                                 \n",
      " batch_normalization_18 (Bat  (None, 2, 15, 15, 128)   512       \n",
      " chNormalization)                                                \n",
      "                                                                 \n",
      " conv3d_15 (Conv3D)          (None, 2, 15, 15, 128)    442496    \n",
      "                                                                 \n",
      " activation_15 (Activation)  (None, 2, 15, 15, 128)    0         \n",
      "                                                                 \n",
      " batch_normalization_19 (Bat  (None, 2, 15, 15, 128)   512       \n",
      " chNormalization)                                                \n",
      "                                                                 \n",
      " max_pooling3d_11 (MaxPoolin  (None, 1, 7, 7, 128)     0         \n",
      " g3D)                                                            \n",
      "                                                                 \n",
      " flatten_2 (Flatten)         (None, 6272)              0         \n",
      "                                                                 \n",
      " dense_6 (Dense)             (None, 256)               1605888   \n",
      "                                                                 \n",
      " batch_normalization_20 (Bat  (None, 256)              1024      \n",
      " chNormalization)                                                \n",
      "                                                                 \n",
      " dropout_4 (Dropout)         (None, 256)               0         \n",
      "                                                                 \n",
      " dense_7 (Dense)             (None, 256)               65792     \n",
      "                                                                 \n",
      " batch_normalization_21 (Bat  (None, 256)              1024      \n",
      " chNormalization)                                                \n",
      "                                                                 \n",
      " dropout_5 (Dropout)         (None, 256)               0         \n",
      "                                                                 \n",
      " dense_8 (Dense)             (None, 5)                 1285      \n",
      "                                                                 \n",
      "=================================================================\n",
      "Total params: 2,556,533\n",
      "Trainable params: 2,554,549\n",
      "Non-trainable params: 1,984\n",
      "_________________________________________________________________\n"
     ]
    }
   ],
   "source": [
    "conv_3d4=ModelConv3D4()\n",
    "conv_3d4.initialize_path(project_folder)\n",
    "conv_3d4.initialize_image_properties(image_height=120,image_width=120)\n",
    "conv_3d4.initialize_hyperparams(frames_to_sample=16,batch_size=30,num_epochs=25)\n",
    "conv_3d4_model=conv_3d4.define_model(filtersize=(3,3,3),dense_neurons=256,dropout=0.5)\n",
    "conv_3d4_model.summary()"
   ]
  },
  {
   "cell_type": "code",
   "execution_count": 17,
   "id": "8103118b",
   "metadata": {},
   "outputs": [
    {
     "name": "stdout",
     "output_type": "stream",
     "text": [
      "Total Params: 2556533\n",
      "WARNING:tensorflow:`period` argument is deprecated. Please use `save_freq` to specify the frequency in number of batches seen.\n",
      "Epoch 1/25\n",
      "23/23 [==============================] - ETA: 0s - loss: 2.1454 - categorical_accuracy: 0.3454\n",
      "Epoch 00001: val_loss improved from inf to 1.99793, saving model to model_init_2022-06-1407_31_01.778189/model-00001-2.14541-0.34540-1.99793-0.22000.h5\n",
      "23/23 [==============================] - 40s 2s/step - loss: 2.1454 - categorical_accuracy: 0.3454 - val_loss: 1.9979 - val_categorical_accuracy: 0.2200 - lr: 0.0010\n",
      "Epoch 2/25\n",
      "23/23 [==============================] - ETA: 0s - loss: 1.6005 - categorical_accuracy: 0.4118\n",
      "Epoch 00002: val_loss did not improve from 1.99793\n",
      "23/23 [==============================] - 35s 2s/step - loss: 1.6005 - categorical_accuracy: 0.4118 - val_loss: 3.1162 - val_categorical_accuracy: 0.1400 - lr: 0.0010\n",
      "Epoch 3/25\n",
      "23/23 [==============================] - ETA: 0s - loss: 1.4757 - categorical_accuracy: 0.5113\n",
      "Epoch 00003: val_loss did not improve from 1.99793\n",
      "23/23 [==============================] - 35s 2s/step - loss: 1.4757 - categorical_accuracy: 0.5113 - val_loss: 2.7963 - val_categorical_accuracy: 0.2400 - lr: 0.0010\n",
      "Epoch 4/25\n",
      "23/23 [==============================] - ETA: 0s - loss: 1.2373 - categorical_accuracy: 0.5370\n",
      "Epoch 00004: val_loss did not improve from 1.99793\n",
      "23/23 [==============================] - 34s 2s/step - loss: 1.2373 - categorical_accuracy: 0.5370 - val_loss: 2.6210 - val_categorical_accuracy: 0.1900 - lr: 0.0010\n",
      "Epoch 5/25\n",
      "23/23 [==============================] - ETA: 0s - loss: 1.2104 - categorical_accuracy: 0.5732\n",
      "Epoch 00005: val_loss did not improve from 1.99793\n",
      "\n",
      "Epoch 00005: ReduceLROnPlateau reducing learning rate to 0.00020000000949949026.\n",
      "23/23 [==============================] - 35s 2s/step - loss: 1.2104 - categorical_accuracy: 0.5732 - val_loss: 3.2268 - val_categorical_accuracy: 0.1800 - lr: 0.0010\n",
      "Epoch 6/25\n",
      "23/23 [==============================] - ETA: 0s - loss: 1.3128 - categorical_accuracy: 0.5551\n",
      "Epoch 00006: val_loss did not improve from 1.99793\n",
      "23/23 [==============================] - 34s 2s/step - loss: 1.3128 - categorical_accuracy: 0.5551 - val_loss: 2.7074 - val_categorical_accuracy: 0.1600 - lr: 2.0000e-04\n",
      "Epoch 7/25\n",
      "23/23 [==============================] - ETA: 0s - loss: 1.1599 - categorical_accuracy: 0.5958\n",
      "Epoch 00007: val_loss did not improve from 1.99793\n",
      "23/23 [==============================] - 35s 2s/step - loss: 1.1599 - categorical_accuracy: 0.5958 - val_loss: 3.9482 - val_categorical_accuracy: 0.2000 - lr: 2.0000e-04\n",
      "Epoch 8/25\n",
      "23/23 [==============================] - ETA: 0s - loss: 1.0718 - categorical_accuracy: 0.6048\n",
      "Epoch 00008: val_loss did not improve from 1.99793\n",
      "23/23 [==============================] - 33s 1s/step - loss: 1.0718 - categorical_accuracy: 0.6048 - val_loss: 4.0262 - val_categorical_accuracy: 0.2400 - lr: 2.0000e-04\n",
      "Epoch 9/25\n",
      "23/23 [==============================] - ETA: 0s - loss: 1.2904 - categorical_accuracy: 0.5852\n",
      "Epoch 00009: val_loss did not improve from 1.99793\n",
      "\n",
      "Epoch 00009: ReduceLROnPlateau reducing learning rate to 4.0000001899898055e-05.\n",
      "23/23 [==============================] - 34s 2s/step - loss: 1.2904 - categorical_accuracy: 0.5852 - val_loss: 2.0945 - val_categorical_accuracy: 0.2800 - lr: 2.0000e-04\n",
      "Epoch 10/25\n",
      "23/23 [==============================] - ETA: 0s - loss: 1.0489 - categorical_accuracy: 0.6033\n",
      "Epoch 00010: val_loss did not improve from 1.99793\n",
      "23/23 [==============================] - 34s 2s/step - loss: 1.0489 - categorical_accuracy: 0.6033 - val_loss: 2.8524 - val_categorical_accuracy: 0.2100 - lr: 4.0000e-05\n",
      "Epoch 11/25\n",
      "23/23 [==============================] - ETA: 0s - loss: 1.0645 - categorical_accuracy: 0.6078\n",
      "Epoch 00011: val_loss did not improve from 1.99793\n",
      "23/23 [==============================] - 34s 2s/step - loss: 1.0645 - categorical_accuracy: 0.6078 - val_loss: 3.2818 - val_categorical_accuracy: 0.1900 - lr: 4.0000e-05\n",
      "Epoch 00011: early stopping\n"
     ]
    }
   ],
   "source": [
    "print(\"Total Params:\", conv_3d4_model.count_params())\n",
    "history_model4=conv_3d4.train_model(conv_3d4_model)"
   ]
  },
  {
   "cell_type": "code",
   "execution_count": 18,
   "id": "b0a2f620",
   "metadata": {},
   "outputs": [
    {
     "data": {
      "image/png": "[encoded data removed]",
      "text/plain": [
       "<Figure size 1080x288 with 2 Axes>"
      ]
     },
     "metadata": {
      "needs_background": "light"
     },
     "output_type": "display_data"
    }
   ],
   "source": [
    "plot(history_model4)"
   ]
  },
  {
   "cell_type": "markdown",
   "id": "e65b5f64",
   "metadata": {},
   "source": [
    "### Observaion-   \n",
    "We can see the overfiting in model.we get a less validation accuracy  and training accuracy 19% & 60% respectively."
   ]
  },
  {
   "cell_type": "markdown",
   "id": "93d211c8",
   "metadata": {},
   "source": [
    "### Model 5 -\n",
    "### CNN- LSTM Model"
   ]
  },
  {
   "cell_type": "code",
   "execution_count": 19,
   "id": "7d40b55c",
   "metadata": {},
   "outputs": [],
   "source": [
    "class RNNCNN1(ModelBuilder):\n",
    "    \n",
    "    def define_model(self,lstm_cells=64,dense_neurons=64,dropout=0.25):\n",
    "\n",
    "        model = Sequential()\n",
    "\n",
    "        model.add(TimeDistributed(Conv2D(16, (3, 3) , padding='same', activation='relu'),\n",
    "                                  input_shape=(self.frames_to_sample,self.image_height,self.image_width,self.channels)))\n",
    "        model.add(TimeDistributed(BatchNormalization()))\n",
    "        model.add(TimeDistributed(MaxPooling2D((2, 2))))\n",
    "        \n",
    "        model.add(TimeDistributed(Conv2D(32, (3, 3) , padding='same', activation='relu')))\n",
    "        model.add(TimeDistributed(BatchNormalization()))\n",
    "        model.add(TimeDistributed(MaxPooling2D((2, 2))))\n",
    "        \n",
    "        model.add(TimeDistributed(Conv2D(64, (3, 3) , padding='same', activation='relu')))\n",
    "        model.add(TimeDistributed(BatchNormalization()))\n",
    "        model.add(TimeDistributed(MaxPooling2D((2, 2))))\n",
    "        \n",
    "        model.add(TimeDistributed(Conv2D(128, (3, 3) , padding='same', activation='relu')))\n",
    "        model.add(TimeDistributed(BatchNormalization()))\n",
    "        model.add(TimeDistributed(MaxPooling2D((2, 2))))\n",
    "        \n",
    "        model.add(TimeDistributed(Conv2D(256, (3, 3) , padding='same', activation='relu')))\n",
    "        model.add(TimeDistributed(BatchNormalization()))\n",
    "        model.add(TimeDistributed(MaxPooling2D((2, 2))))\n",
    "        \n",
    "        #model.add(TimeDistributed(Conv2D(512, (2, 2) , padding='valid', activation='relu')))\n",
    "       # model.add(TimeDistributed(BatchNormalization()))\n",
    "       # model.add(TimeDistributed(MaxPooling2D((2, 2))))\n",
    "\n",
    "        model.add(TimeDistributed(Flatten()))\n",
    "\n",
    "\n",
    "        model.add(LSTM(lstm_cells))\n",
    "        model.add(Dropout(dropout))\n",
    "        \n",
    "        model.add(Dense(dense_neurons,activation='relu'))\n",
    "        model.add(Dropout(dropout))\n",
    "        \n",
    "        model.add(Dense(self.num_classes, activation='softmax'))\n",
    "        optimiser = tf.optimizers.Adam()\n",
    "        model.compile(optimizer=optimiser, loss='categorical_crossentropy', metrics=['categorical_accuracy'])\n",
    "        return model"
   ]
  },
  {
   "cell_type": "code",
   "execution_count": 20,
   "id": "b0b02a7d",
   "metadata": {},
   "outputs": [
    {
     "name": "stdout",
     "output_type": "stream",
     "text": [
      "Model: \"sequential_3\"\n",
      "_________________________________________________________________\n",
      " Layer (type)                Output Shape              Param #   \n",
      "=================================================================\n",
      " time_distributed (TimeDistr  (None, 18, 120, 120, 16)  448      \n",
      " ibuted)                                                         \n",
      "                                                                 \n",
      " time_distributed_1 (TimeDis  (None, 18, 120, 120, 16)  64       \n",
      " tributed)                                                       \n",
      "                                                                 \n",
      " time_distributed_2 (TimeDis  (None, 18, 60, 60, 16)   0         \n",
      " tributed)                                                       \n",
      "                                                                 \n",
      " time_distributed_3 (TimeDis  (None, 18, 60, 60, 32)   4640      \n",
      " tributed)                                                       \n",
      "                                                                 \n",
      " time_distributed_4 (TimeDis  (None, 18, 60, 60, 32)   128       \n",
      " tributed)                                                       \n",
      "                                                                 \n",
      " time_distributed_5 (TimeDis  (None, 18, 30, 30, 32)   0         \n",
      " tributed)                                                       \n",
      "                                                                 \n",
      " time_distributed_6 (TimeDis  (None, 18, 30, 30, 64)   18496     \n",
      " tributed)                                                       \n",
      "                                                                 \n",
      " time_distributed_7 (TimeDis  (None, 18, 30, 30, 64)   256       \n",
      " tributed)                                                       \n",
      "                                                                 \n",
      " time_distributed_8 (TimeDis  (None, 18, 15, 15, 64)   0         \n",
      " tributed)                                                       \n",
      "                                                                 \n",
      " time_distributed_9 (TimeDis  (None, 18, 15, 15, 128)  73856     \n",
      " tributed)                                                       \n",
      "                                                                 \n",
      " time_distributed_10 (TimeDi  (None, 18, 15, 15, 128)  512       \n",
      " stributed)                                                      \n",
      "                                                                 \n",
      " time_distributed_11 (TimeDi  (None, 18, 7, 7, 128)    0         \n",
      " stributed)                                                      \n",
      "                                                                 \n",
      " time_distributed_12 (TimeDi  (None, 18, 7, 7, 256)    295168    \n",
      " stributed)                                                      \n",
      "                                                                 \n",
      " time_distributed_13 (TimeDi  (None, 18, 7, 7, 256)    1024      \n",
      " stributed)                                                      \n",
      "                                                                 \n",
      " time_distributed_14 (TimeDi  (None, 18, 3, 3, 256)    0         \n",
      " stributed)                                                      \n",
      "                                                                 \n",
      " time_distributed_15 (TimeDi  (None, 18, 2304)         0         \n",
      " stributed)                                                      \n",
      "                                                                 \n",
      " lstm (LSTM)                 (None, 128)               1245696   \n",
      "                                                                 \n",
      " dropout_6 (Dropout)         (None, 128)               0         \n",
      "                                                                 \n",
      " dense_9 (Dense)             (None, 128)               16512     \n",
      "                                                                 \n",
      " dropout_7 (Dropout)         (None, 128)               0         \n",
      "                                                                 \n",
      " dense_10 (Dense)            (None, 5)                 645       \n",
      "                                                                 \n",
      "=================================================================\n",
      "Total params: 1,657,445\n",
      "Trainable params: 1,656,453\n",
      "Non-trainable params: 992\n",
      "_________________________________________________________________\n"
     ]
    }
   ],
   "source": [
    "rnn_cnn1=RNNCNN1()\n",
    "rnn_cnn1.initialize_path(project_folder)\n",
    "rnn_cnn1.initialize_image_properties(image_height=120,image_width=120)\n",
    "rnn_cnn1.initialize_hyperparams(frames_to_sample=18,batch_size=20,num_epochs=20)\n",
    "rnn_cnn1_model=rnn_cnn1.define_model(lstm_cells=128,dense_neurons=128,dropout=0.25)\n",
    "rnn_cnn1_model.summary()"
   ]
  },
  {
   "cell_type": "code",
   "execution_count": 21,
   "id": "0b9d29cd",
   "metadata": {},
   "outputs": [
    {
     "name": "stdout",
     "output_type": "stream",
     "text": [
      "Total Params: 1657445\n",
      "WARNING:tensorflow:`period` argument is deprecated. Please use `save_freq` to specify the frequency in number of batches seen.\n",
      "Epoch 1/20\n",
      "34/34 [==============================] - ETA: 0s - loss: 1.5126 - categorical_accuracy: 0.3605\n",
      "Epoch 00001: val_loss improved from inf to 1.71082, saving model to model_init_2022-06-1407_41_32.682003/model-00001-1.51264-0.36048-1.71082-0.22000.h5\n",
      "34/34 [==============================] - 42s 1s/step - loss: 1.5126 - categorical_accuracy: 0.3605 - val_loss: 1.7108 - val_categorical_accuracy: 0.2200 - lr: 0.0010\n",
      "Epoch 2/20\n",
      "34/34 [==============================] - ETA: 0s - loss: 1.2140 - categorical_accuracy: 0.5143\n",
      "Epoch 00002: val_loss did not improve from 1.71082\n",
      "34/34 [==============================] - 39s 1s/step - loss: 1.2140 - categorical_accuracy: 0.5143 - val_loss: 2.0026 - val_categorical_accuracy: 0.2000 - lr: 0.0010\n",
      "Epoch 3/20\n",
      "34/34 [==============================] - ETA: 0s - loss: 1.0412 - categorical_accuracy: 0.6018\n",
      "Epoch 00003: val_loss did not improve from 1.71082\n",
      "34/34 [==============================] - 39s 1s/step - loss: 1.0412 - categorical_accuracy: 0.6018 - val_loss: 2.1229 - val_categorical_accuracy: 0.2000 - lr: 0.0010\n",
      "Epoch 4/20\n",
      "34/34 [==============================] - ETA: 0s - loss: 0.9032 - categorical_accuracy: 0.6350\n",
      "Epoch 00004: val_loss did not improve from 1.71082\n",
      "34/34 [==============================] - 39s 1s/step - loss: 0.9032 - categorical_accuracy: 0.6350 - val_loss: 2.2841 - val_categorical_accuracy: 0.2500 - lr: 0.0010\n",
      "Epoch 5/20\n",
      "34/34 [==============================] - ETA: 0s - loss: 0.7398 - categorical_accuracy: 0.7179\n",
      "Epoch 00005: val_loss did not improve from 1.71082\n",
      "\n",
      "Epoch 00005: ReduceLROnPlateau reducing learning rate to 0.00020000000949949026.\n",
      "34/34 [==============================] - 39s 1s/step - loss: 0.7398 - categorical_accuracy: 0.7179 - val_loss: 2.0894 - val_categorical_accuracy: 0.2500 - lr: 0.0010\n",
      "Epoch 6/20\n",
      "34/34 [==============================] - ETA: 0s - loss: 0.6110 - categorical_accuracy: 0.7873\n",
      "Epoch 00006: val_loss did not improve from 1.71082\n",
      "34/34 [==============================] - 39s 1s/step - loss: 0.6110 - categorical_accuracy: 0.7873 - val_loss: 2.1088 - val_categorical_accuracy: 0.2800 - lr: 2.0000e-04\n",
      "Epoch 7/20\n",
      "34/34 [==============================] - ETA: 0s - loss: 0.4857 - categorical_accuracy: 0.8507\n",
      "Epoch 00007: val_loss did not improve from 1.71082\n",
      "34/34 [==============================] - 40s 1s/step - loss: 0.4857 - categorical_accuracy: 0.8507 - val_loss: 1.9551 - val_categorical_accuracy: 0.3200 - lr: 2.0000e-04\n",
      "Epoch 8/20\n",
      "34/34 [==============================] - ETA: 0s - loss: 0.4378 - categorical_accuracy: 0.8643\n",
      "Epoch 00008: val_loss did not improve from 1.71082\n",
      "34/34 [==============================] - 39s 1s/step - loss: 0.4378 - categorical_accuracy: 0.8643 - val_loss: 2.1439 - val_categorical_accuracy: 0.3300 - lr: 2.0000e-04\n",
      "Epoch 9/20\n",
      "34/34 [==============================] - ETA: 0s - loss: 0.3709 - categorical_accuracy: 0.8854\n",
      "Epoch 00009: val_loss did not improve from 1.71082\n",
      "\n",
      "Epoch 00009: ReduceLROnPlateau reducing learning rate to 4.0000001899898055e-05.\n",
      "34/34 [==============================] - 40s 1s/step - loss: 0.3709 - categorical_accuracy: 0.8854 - val_loss: 1.9365 - val_categorical_accuracy: 0.3800 - lr: 2.0000e-04\n",
      "Epoch 10/20\n",
      "34/34 [==============================] - ETA: 0s - loss: 0.3542 - categorical_accuracy: 0.8854\n",
      "Epoch 00010: val_loss did not improve from 1.71082\n",
      "34/34 [==============================] - 39s 1s/step - loss: 0.3542 - categorical_accuracy: 0.8854 - val_loss: 1.8567 - val_categorical_accuracy: 0.4300 - lr: 4.0000e-05\n",
      "Epoch 11/20\n",
      "34/34 [==============================] - ETA: 0s - loss: 0.3272 - categorical_accuracy: 0.8914\n",
      "Epoch 00011: val_loss did not improve from 1.71082\n",
      "34/34 [==============================] - 39s 1s/step - loss: 0.3272 - categorical_accuracy: 0.8914 - val_loss: 1.8049 - val_categorical_accuracy: 0.4500 - lr: 4.0000e-05\n",
      "Epoch 00011: early stopping\n"
     ]
    }
   ],
   "source": [
    "print(\"Total Params:\", rnn_cnn1_model.count_params())\n",
    "history_model5=rnn_cnn1.train_model(rnn_cnn1_model)"
   ]
  },
  {
   "cell_type": "code",
   "execution_count": 22,
   "id": "cf3e9e7c",
   "metadata": {},
   "outputs": [
    {
     "data": {
      "image/png": "[encoded data removed]",
      "text/plain": [
       "<Figure size 1080x288 with 2 Axes>"
      ]
     },
     "metadata": {
      "needs_background": "light"
     },
     "output_type": "display_data"
    }
   ],
   "source": [
    "plot(history_model5)"
   ]
  },
  {
   "cell_type": "markdown",
   "id": "73999631",
   "metadata": {},
   "source": [
    "### Observation \n",
    "We can see val_loss did not improve from 1.71 so earlystopping stops the epoch automatically. <br>\n",
    "\n",
    "Last Epoch stop on 11/20 <br>\n",
    "Best weights save automatically. The validation accuracy of 45% and training accuracy of 89%. <br>\n",
    "Still Model is Overfitting."
   ]
  },
  {
   "cell_type": "markdown",
   "id": "0c5bbb04",
   "metadata": {},
   "source": [
    "### Model 6 \n",
    "### Let us bring in Transfer Learning "
   ]
  },
  {
   "cell_type": "code",
   "execution_count": 23,
   "id": "f73764e0",
   "metadata": {},
   "outputs": [],
   "source": [
    "# importing the MobileNet model due to it's lightweight architecture and high speed performance as compared \n",
    "# to other heavy-duty models like VGG16, Alexnet, InceptionV3 etc. Also, we are now also running on low disk space \n",
    "# in the nimblebox.ai platform. \n",
    "\n",
    "from keras.applications import mobilenet"
   ]
  },
  {
   "cell_type": "code",
   "execution_count": 24,
   "id": "5f64ad74",
   "metadata": {},
   "outputs": [
    {
     "name": "stdout",
     "output_type": "stream",
     "text": [
      "WARNING:tensorflow:`input_shape` is undefined or non-square, or `rows` is not in [128, 160, 192, 224]. Weights for input shape (224, 224) will be loaded as the default.\n"
     ]
    }
   ],
   "source": [
    "mobilenet_transfer = mobilenet.MobileNet(weights='imagenet', include_top=False)\n",
    "\n",
    "class RNNCNN_TL(ModelBuilder):\n",
    "    \n",
    "    def define_model(self,lstm_cells=64,dense_neurons=64,dropout=0.25):\n",
    "        \n",
    "        model = Sequential()\n",
    "        model.add(TimeDistributed(mobilenet_transfer,input_shape=(self.frames_to_sample,self.image_height,self.image_width,self.channels)))\n",
    "        \n",
    "        \n",
    "        for layer in model.layers:\n",
    "            layer.trainable = False\n",
    "        \n",
    "        \n",
    "        model.add(TimeDistributed(BatchNormalization()))\n",
    "        model.add(TimeDistributed(MaxPooling2D((2, 2))))\n",
    "        model.add(TimeDistributed(Flatten()))\n",
    "\n",
    "        model.add(LSTM(lstm_cells))\n",
    "        model.add(Dropout(dropout))\n",
    "        \n",
    "        model.add(Dense(dense_neurons,activation='relu'))\n",
    "        model.add(Dropout(dropout))\n",
    "        \n",
    "        model.add(Dense(self.num_classes, activation='softmax'))\n",
    "        \n",
    "        \n",
    "        optimiser = tf.optimizers.Adam()\n",
    "        model.compile(optimizer=optimiser, loss='categorical_crossentropy', metrics=['categorical_accuracy'])\n",
    "        return model"
   ]
  },
  {
   "cell_type": "code",
   "execution_count": 25,
   "id": "2dd7e494",
   "metadata": {},
   "outputs": [
    {
     "name": "stdout",
     "output_type": "stream",
     "text": [
      "Model: \"sequential_4\"\n",
      "_________________________________________________________________\n",
      " Layer (type)                Output Shape              Param #   \n",
      "=================================================================\n",
      " time_distributed_16 (TimeDi  (None, 16, 3, 3, 1024)   3228864   \n",
      " stributed)                                                      \n",
      "                                                                 \n",
      " time_distributed_17 (TimeDi  (None, 16, 3, 3, 1024)   4096      \n",
      " stributed)                                                      \n",
      "                                                                 \n",
      " time_distributed_18 (TimeDi  (None, 16, 1, 1, 1024)   0         \n",
      " stributed)                                                      \n",
      "                                                                 \n",
      " time_distributed_19 (TimeDi  (None, 16, 1024)         0         \n",
      " stributed)                                                      \n",
      "                                                                 \n",
      " lstm_1 (LSTM)               (None, 128)               590336    \n",
      "                                                                 \n",
      " dropout_8 (Dropout)         (None, 128)               0         \n",
      "                                                                 \n",
      " dense_11 (Dense)            (None, 128)               16512     \n",
      "                                                                 \n",
      " dropout_9 (Dropout)         (None, 128)               0         \n",
      "                                                                 \n",
      " dense_12 (Dense)            (None, 5)                 645       \n",
      "                                                                 \n",
      "=================================================================\n",
      "Total params: 3,840,453\n",
      "Trainable params: 609,541\n",
      "Non-trainable params: 3,230,912\n",
      "_________________________________________________________________\n"
     ]
    }
   ],
   "source": [
    "rnn_cnn_tl=RNNCNN_TL()\n",
    "rnn_cnn_tl.initialize_path(project_folder)\n",
    "rnn_cnn_tl.initialize_image_properties(image_height=120,image_width=120)\n",
    "rnn_cnn_tl.initialize_hyperparams(frames_to_sample=16,batch_size=5,num_epochs=20)\n",
    "rnn_cnn_tl_model=rnn_cnn_tl.define_model(lstm_cells=128,dense_neurons=128,dropout=0.25)\n",
    "rnn_cnn_tl_model.summary()"
   ]
  },
  {
   "cell_type": "code",
   "execution_count": 26,
   "id": "8361c668",
   "metadata": {},
   "outputs": [
    {
     "name": "stdout",
     "output_type": "stream",
     "text": [
      "Total Params: 3840453\n",
      "WARNING:tensorflow:`period` argument is deprecated. Please use `save_freq` to specify the frequency in number of batches seen.\n",
      "Epoch 1/20\n",
      "133/133 [==============================] - ETA: 0s - loss: 1.4100 - categorical_accuracy: 0.3816\n",
      "Epoch 00001: val_loss improved from inf to 0.93076, saving model to model_init_2022-06-1407_51_28.677130/model-00001-1.41003-0.38160-0.93076-0.65000.h5\n",
      "133/133 [==============================] - 39s 271ms/step - loss: 1.4100 - categorical_accuracy: 0.3816 - val_loss: 0.9308 - val_categorical_accuracy: 0.6500 - lr: 0.0010\n",
      "Epoch 2/20\n",
      "133/133 [==============================] - ETA: 0s - loss: 0.8783 - categorical_accuracy: 0.6621\n",
      "Epoch 00002: val_loss improved from 0.93076 to 0.77221, saving model to model_init_2022-06-1407_51_28.677130/model-00002-0.87831-0.66214-0.77221-0.74000.h5\n",
      "133/133 [==============================] - 35s 264ms/step - loss: 0.8783 - categorical_accuracy: 0.6621 - val_loss: 0.7722 - val_categorical_accuracy: 0.7400 - lr: 0.0010\n",
      "Epoch 3/20\n",
      "133/133 [==============================] - ETA: 0s - loss: 0.5256 - categorical_accuracy: 0.8115\n",
      "Epoch 00003: val_loss improved from 0.77221 to 0.65241, saving model to model_init_2022-06-1407_51_28.677130/model-00003-0.52557-0.81146-0.65241-0.75000.h5\n",
      "133/133 [==============================] - 35s 267ms/step - loss: 0.5256 - categorical_accuracy: 0.8115 - val_loss: 0.6524 - val_categorical_accuracy: 0.7500 - lr: 0.0010\n",
      "Epoch 4/20\n",
      "133/133 [==============================] - ETA: 0s - loss: 0.3851 - categorical_accuracy: 0.8612\n",
      "Epoch 00004: val_loss improved from 0.65241 to 0.52854, saving model to model_init_2022-06-1407_51_28.677130/model-00004-0.38514-0.86124-0.52854-0.79000.h5\n",
      "133/133 [==============================] - 35s 262ms/step - loss: 0.3851 - categorical_accuracy: 0.8612 - val_loss: 0.5285 - val_categorical_accuracy: 0.7900 - lr: 0.0010\n",
      "Epoch 5/20\n",
      "133/133 [==============================] - ETA: 0s - loss: 0.1924 - categorical_accuracy: 0.9412\n",
      "Epoch 00005: val_loss did not improve from 0.52854\n",
      "133/133 [==============================] - 36s 275ms/step - loss: 0.1924 - categorical_accuracy: 0.9412 - val_loss: 0.6639 - val_categorical_accuracy: 0.6900 - lr: 0.0010\n",
      "Epoch 6/20\n",
      "133/133 [==============================] - ETA: 0s - loss: 0.1530 - categorical_accuracy: 0.9563\n",
      "Epoch 00006: val_loss did not improve from 0.52854\n",
      "133/133 [==============================] - 35s 265ms/step - loss: 0.1530 - categorical_accuracy: 0.9563 - val_loss: 0.8711 - val_categorical_accuracy: 0.7100 - lr: 0.0010\n",
      "Epoch 7/20\n",
      "133/133 [==============================] - ETA: 0s - loss: 0.0923 - categorical_accuracy: 0.9774\n",
      "Epoch 00007: val_loss did not improve from 0.52854\n",
      "133/133 [==============================] - 34s 260ms/step - loss: 0.0923 - categorical_accuracy: 0.9774 - val_loss: 0.6065 - val_categorical_accuracy: 0.7800 - lr: 0.0010\n",
      "Epoch 8/20\n",
      "133/133 [==============================] - ETA: 0s - loss: 0.0776 - categorical_accuracy: 0.9683\n",
      "Epoch 00008: val_loss did not improve from 0.52854\n",
      "\n",
      "Epoch 00008: ReduceLROnPlateau reducing learning rate to 0.00020000000949949026.\n",
      "133/133 [==============================] - 35s 263ms/step - loss: 0.0776 - categorical_accuracy: 0.9683 - val_loss: 0.7416 - val_categorical_accuracy: 0.7700 - lr: 0.0010\n",
      "Epoch 9/20\n",
      "133/133 [==============================] - ETA: 0s - loss: 0.0644 - categorical_accuracy: 0.9864\n",
      "Epoch 00009: val_loss did not improve from 0.52854\n",
      "133/133 [==============================] - 35s 266ms/step - loss: 0.0644 - categorical_accuracy: 0.9864 - val_loss: 0.8090 - val_categorical_accuracy: 0.7400 - lr: 2.0000e-04\n",
      "Epoch 10/20\n",
      "133/133 [==============================] - ETA: 0s - loss: 0.0346 - categorical_accuracy: 0.9940\n",
      "Epoch 00010: val_loss did not improve from 0.52854\n",
      "133/133 [==============================] - 35s 265ms/step - loss: 0.0346 - categorical_accuracy: 0.9940 - val_loss: 0.6778 - val_categorical_accuracy: 0.7500 - lr: 2.0000e-04\n",
      "Epoch 11/20\n",
      "133/133 [==============================] - ETA: 0s - loss: 0.0358 - categorical_accuracy: 0.9910\n",
      "Epoch 00011: val_loss did not improve from 0.52854\n",
      "133/133 [==============================] - 35s 261ms/step - loss: 0.0358 - categorical_accuracy: 0.9910 - val_loss: 0.7732 - val_categorical_accuracy: 0.7700 - lr: 2.0000e-04\n",
      "Epoch 12/20\n",
      "133/133 [==============================] - ETA: 0s - loss: 0.0318 - categorical_accuracy: 0.9894\n",
      "Epoch 00012: val_loss did not improve from 0.52854\n",
      "\n",
      "Epoch 00012: ReduceLROnPlateau reducing learning rate to 4.0000001899898055e-05.\n",
      "133/133 [==============================] - 35s 264ms/step - loss: 0.0318 - categorical_accuracy: 0.9894 - val_loss: 0.6775 - val_categorical_accuracy: 0.7600 - lr: 2.0000e-04\n",
      "Epoch 13/20\n",
      "133/133 [==============================] - ETA: 0s - loss: 0.0287 - categorical_accuracy: 0.9925\n",
      "Epoch 00013: val_loss did not improve from 0.52854\n",
      "133/133 [==============================] - 35s 267ms/step - loss: 0.0287 - categorical_accuracy: 0.9925 - val_loss: 0.8146 - val_categorical_accuracy: 0.7700 - lr: 4.0000e-05\n",
      "Epoch 14/20\n",
      "133/133 [==============================] - ETA: 0s - loss: 0.0222 - categorical_accuracy: 0.9940\n",
      "Epoch 00014: val_loss did not improve from 0.52854\n",
      "133/133 [==============================] - 35s 266ms/step - loss: 0.0222 - categorical_accuracy: 0.9940 - val_loss: 0.7559 - val_categorical_accuracy: 0.7300 - lr: 4.0000e-05\n",
      "Epoch 00014: early stopping\n"
     ]
    }
   ],
   "source": [
    "print(\"Total Params:\", rnn_cnn_tl_model.count_params())\n",
    "history_model6=rnn_cnn_tl.train_model(rnn_cnn_tl_model)"
   ]
  },
  {
   "cell_type": "code",
   "execution_count": 27,
   "id": "18aabbbe",
   "metadata": {},
   "outputs": [
    {
     "data": {
      "image/png": "[encoded data removed]",
      "text/plain": [
       "<Figure size 1080x288 with 2 Axes>"
      ]
     },
     "metadata": {
      "needs_background": "light"
     },
     "output_type": "display_data"
    }
   ],
   "source": [
    "plot(history_model6)"
   ]
  },
  {
   "cell_type": "markdown",
   "id": "05eb7179",
   "metadata": {},
   "source": [
    "### Model 7 \n",
    "### Transfer Learning with GRU and training all weights"
   ]
  },
  {
   "cell_type": "code",
   "execution_count": 28,
   "id": "f94c4939",
   "metadata": {},
   "outputs": [
    {
     "name": "stdout",
     "output_type": "stream",
     "text": [
      "WARNING:tensorflow:`input_shape` is undefined or non-square, or `rows` is not in [128, 160, 192, 224]. Weights for input shape (224, 224) will be loaded as the default.\n"
     ]
    }
   ],
   "source": [
    "from keras.applications import mobilenet\n",
    "\n",
    "mobilenet_transfer = mobilenet.MobileNet(weights='imagenet', include_top=False)\n",
    "\n",
    "class RNNCNN_TL2(ModelBuilder):\n",
    "    \n",
    "    def define_model(self,gru_cells=64,dense_neurons=64,dropout=0.25):\n",
    "        \n",
    "        model = Sequential()\n",
    "        model.add(TimeDistributed(mobilenet_transfer,input_shape=(self.frames_to_sample,self.image_height,self.image_width,self.channels)))\n",
    " \n",
    "        \n",
    "        model.add(TimeDistributed(BatchNormalization()))\n",
    "        model.add(TimeDistributed(MaxPooling2D((2, 2))))\n",
    "        model.add(TimeDistributed(Flatten()))\n",
    "\n",
    "        model.add(GRU(gru_cells))\n",
    "        model.add(Dropout(dropout))\n",
    "        \n",
    "        model.add(Dense(dense_neurons,activation='relu'))\n",
    "        model.add(Dropout(dropout))\n",
    "        \n",
    "        model.add(Dense(self.num_classes, activation='softmax'))\n",
    "        \n",
    "        \n",
    "        optimiser = tf.optimizers.Adam()\n",
    "        model.compile(optimizer=optimiser, loss='categorical_crossentropy', metrics=['categorical_accuracy'])\n",
    "        return model"
   ]
  },
  {
   "cell_type": "code",
   "execution_count": 29,
   "id": "12e8c90d",
   "metadata": {},
   "outputs": [
    {
     "name": "stdout",
     "output_type": "stream",
     "text": [
      "Model: \"sequential_5\"\n",
      "_________________________________________________________________\n",
      " Layer (type)                Output Shape              Param #   \n",
      "=================================================================\n",
      " time_distributed_20 (TimeDi  (None, 16, 3, 3, 1024)   3228864   \n",
      " stributed)                                                      \n",
      "                                                                 \n",
      " time_distributed_21 (TimeDi  (None, 16, 3, 3, 1024)   4096      \n",
      " stributed)                                                      \n",
      "                                                                 \n",
      " time_distributed_22 (TimeDi  (None, 16, 1, 1, 1024)   0         \n",
      " stributed)                                                      \n",
      "                                                                 \n",
      " time_distributed_23 (TimeDi  (None, 16, 1024)         0         \n",
      " stributed)                                                      \n",
      "                                                                 \n",
      " gru (GRU)                   (None, 128)               443136    \n",
      "                                                                 \n",
      " dropout_10 (Dropout)        (None, 128)               0         \n",
      "                                                                 \n",
      " dense_13 (Dense)            (None, 128)               16512     \n",
      "                                                                 \n",
      " dropout_11 (Dropout)        (None, 128)               0         \n",
      "                                                                 \n",
      " dense_14 (Dense)            (None, 5)                 645       \n",
      "                                                                 \n",
      "=================================================================\n",
      "Total params: 3,693,253\n",
      "Trainable params: 3,669,317\n",
      "Non-trainable params: 23,936\n",
      "_________________________________________________________________\n"
     ]
    }
   ],
   "source": [
    "rnn_cnn_tl2=RNNCNN_TL2()\n",
    "rnn_cnn_tl2.initialize_path(project_folder)\n",
    "rnn_cnn_tl2.initialize_image_properties(image_height=120,image_width=120)\n",
    "rnn_cnn_tl2.initialize_hyperparams(frames_to_sample=16,batch_size=5,num_epochs=20)\n",
    "rnn_cnn_tl2_model=rnn_cnn_tl2.define_model(gru_cells=128,dense_neurons=128,dropout=0.25)\n",
    "rnn_cnn_tl2_model.summary()"
   ]
  },
  {
   "cell_type": "code",
   "execution_count": 30,
   "id": "4748a4de",
   "metadata": {},
   "outputs": [
    {
     "name": "stdout",
     "output_type": "stream",
     "text": [
      "Total Params: 3693253\n",
      "WARNING:tensorflow:`period` argument is deprecated. Please use `save_freq` to specify the frequency in number of batches seen.\n",
      "Epoch 1/20\n",
      "133/133 [==============================] - ETA: 0s - loss: 1.0297 - categorical_accuracy: 0.5852\n",
      "Epoch 00001: val_loss improved from inf to 0.67477, saving model to model_init_2022-06-1408_01_59.782233/model-00001-1.02969-0.58522-0.67477-0.73000.h5\n",
      "133/133 [==============================] - 42s 287ms/step - loss: 1.0297 - categorical_accuracy: 0.5852 - val_loss: 0.6748 - val_categorical_accuracy: 0.7300 - lr: 0.0010\n",
      "Epoch 2/20\n",
      "133/133 [==============================] - ETA: 0s - loss: 0.6497 - categorical_accuracy: 0.7798\n",
      "Epoch 00002: val_loss improved from 0.67477 to 0.62988, saving model to model_init_2022-06-1408_01_59.782233/model-00002-0.64972-0.77979-0.62988-0.77000.h5\n",
      "133/133 [==============================] - 36s 271ms/step - loss: 0.6497 - categorical_accuracy: 0.7798 - val_loss: 0.6299 - val_categorical_accuracy: 0.7700 - lr: 0.0010\n",
      "Epoch 3/20\n",
      "133/133 [==============================] - ETA: 0s - loss: 0.4132 - categorical_accuracy: 0.8718\n",
      "Epoch 00003: val_loss did not improve from 0.62988\n",
      "133/133 [==============================] - 36s 274ms/step - loss: 0.4132 - categorical_accuracy: 0.8718 - val_loss: 0.7261 - val_categorical_accuracy: 0.8000 - lr: 0.0010\n",
      "Epoch 4/20\n",
      "133/133 [==============================] - ETA: 0s - loss: 0.3583 - categorical_accuracy: 0.8914\n",
      "Epoch 00004: val_loss improved from 0.62988 to 0.39677, saving model to model_init_2022-06-1408_01_59.782233/model-00004-0.35833-0.89140-0.39677-0.83000.h5\n",
      "133/133 [==============================] - 37s 276ms/step - loss: 0.3583 - categorical_accuracy: 0.8914 - val_loss: 0.3968 - val_categorical_accuracy: 0.8300 - lr: 0.0010\n",
      "Epoch 5/20\n",
      "133/133 [==============================] - ETA: 0s - loss: 0.3195 - categorical_accuracy: 0.8974\n",
      "Epoch 00005: val_loss improved from 0.39677 to 0.33345, saving model to model_init_2022-06-1408_01_59.782233/model-00005-0.31951-0.89744-0.33345-0.87000.h5\n",
      "133/133 [==============================] - 37s 278ms/step - loss: 0.3195 - categorical_accuracy: 0.8974 - val_loss: 0.3334 - val_categorical_accuracy: 0.8700 - lr: 0.0010\n",
      "Epoch 6/20\n",
      "133/133 [==============================] - ETA: 0s - loss: 0.2351 - categorical_accuracy: 0.9306\n",
      "Epoch 00006: val_loss improved from 0.33345 to 0.26679, saving model to model_init_2022-06-1408_01_59.782233/model-00006-0.23508-0.93062-0.26679-0.92000.h5\n",
      "133/133 [==============================] - 37s 276ms/step - loss: 0.2351 - categorical_accuracy: 0.9306 - val_loss: 0.2668 - val_categorical_accuracy: 0.9200 - lr: 0.0010\n",
      "Epoch 7/20\n",
      "133/133 [==============================] - ETA: 0s - loss: 0.1489 - categorical_accuracy: 0.9487\n",
      "Epoch 00007: val_loss did not improve from 0.26679\n",
      "133/133 [==============================] - 36s 275ms/step - loss: 0.1489 - categorical_accuracy: 0.9487 - val_loss: 0.7822 - val_categorical_accuracy: 0.8300 - lr: 0.0010\n",
      "Epoch 8/20\n",
      "133/133 [==============================] - ETA: 0s - loss: 0.2734 - categorical_accuracy: 0.9035\n",
      "Epoch 00008: val_loss did not improve from 0.26679\n",
      "133/133 [==============================] - 36s 272ms/step - loss: 0.2734 - categorical_accuracy: 0.9035 - val_loss: 0.6562 - val_categorical_accuracy: 0.7800 - lr: 0.0010\n",
      "Epoch 9/20\n",
      "133/133 [==============================] - ETA: 0s - loss: 0.2540 - categorical_accuracy: 0.9170\n",
      "Epoch 00009: val_loss did not improve from 0.26679\n",
      "133/133 [==============================] - 37s 278ms/step - loss: 0.2540 - categorical_accuracy: 0.9170 - val_loss: 0.4243 - val_categorical_accuracy: 0.9000 - lr: 0.0010\n",
      "Epoch 10/20\n",
      "133/133 [==============================] - ETA: 0s - loss: 0.2159 - categorical_accuracy: 0.9246\n",
      "Epoch 00010: val_loss did not improve from 0.26679\n",
      "\n",
      "Epoch 00010: ReduceLROnPlateau reducing learning rate to 0.00020000000949949026.\n",
      "133/133 [==============================] - 35s 266ms/step - loss: 0.2159 - categorical_accuracy: 0.9246 - val_loss: 0.4023 - val_categorical_accuracy: 0.8700 - lr: 0.0010\n",
      "Epoch 11/20\n",
      "133/133 [==============================] - ETA: 0s - loss: 0.0977 - categorical_accuracy: 0.9729\n",
      "Epoch 00011: val_loss improved from 0.26679 to 0.16407, saving model to model_init_2022-06-1408_01_59.782233/model-00011-0.09765-0.97285-0.16407-0.93000.h5\n",
      "133/133 [==============================] - 35s 268ms/step - loss: 0.0977 - categorical_accuracy: 0.9729 - val_loss: 0.1641 - val_categorical_accuracy: 0.9300 - lr: 2.0000e-04\n",
      "Epoch 12/20\n",
      "133/133 [==============================] - ETA: 0s - loss: 0.0575 - categorical_accuracy: 0.9849\n",
      "Epoch 00012: val_loss improved from 0.16407 to 0.11441, saving model to model_init_2022-06-1408_01_59.782233/model-00012-0.05750-0.98492-0.11441-0.96000.h5\n",
      "133/133 [==============================] - 37s 276ms/step - loss: 0.0575 - categorical_accuracy: 0.9849 - val_loss: 0.1144 - val_categorical_accuracy: 0.9600 - lr: 2.0000e-04\n",
      "Epoch 13/20\n",
      "133/133 [==============================] - ETA: 0s - loss: 0.0372 - categorical_accuracy: 0.9894\n",
      "Epoch 00013: val_loss improved from 0.11441 to 0.09814, saving model to model_init_2022-06-1408_01_59.782233/model-00013-0.03723-0.98944-0.09814-0.95000.h5\n",
      "133/133 [==============================] - 36s 271ms/step - loss: 0.0372 - categorical_accuracy: 0.9894 - val_loss: 0.0981 - val_categorical_accuracy: 0.9500 - lr: 2.0000e-04\n",
      "Epoch 14/20\n",
      "133/133 [==============================] - ETA: 0s - loss: 0.0396 - categorical_accuracy: 0.9894\n",
      "Epoch 00014: val_loss improved from 0.09814 to 0.07500, saving model to model_init_2022-06-1408_01_59.782233/model-00014-0.03964-0.98944-0.07500-0.97000.h5\n",
      "133/133 [==============================] - 36s 274ms/step - loss: 0.0396 - categorical_accuracy: 0.9894 - val_loss: 0.0750 - val_categorical_accuracy: 0.9700 - lr: 2.0000e-04\n",
      "Epoch 15/20\n",
      "133/133 [==============================] - ETA: 0s - loss: 0.0318 - categorical_accuracy: 0.9894\n",
      "Epoch 00015: val_loss did not improve from 0.07500\n",
      "133/133 [==============================] - 36s 269ms/step - loss: 0.0318 - categorical_accuracy: 0.9894 - val_loss: 0.0883 - val_categorical_accuracy: 0.9700 - lr: 2.0000e-04\n",
      "Epoch 16/20\n",
      "133/133 [==============================] - ETA: 0s - loss: 0.0380 - categorical_accuracy: 0.9910\n",
      "Epoch 00016: val_loss improved from 0.07500 to 0.07020, saving model to model_init_2022-06-1408_01_59.782233/model-00016-0.03804-0.99095-0.07020-0.97000.h5\n",
      "133/133 [==============================] - 36s 271ms/step - loss: 0.0380 - categorical_accuracy: 0.9910 - val_loss: 0.0702 - val_categorical_accuracy: 0.9700 - lr: 2.0000e-04\n",
      "Epoch 17/20\n",
      "133/133 [==============================] - ETA: 0s - loss: 0.0211 - categorical_accuracy: 0.9955\n",
      "Epoch 00017: val_loss improved from 0.07020 to 0.06580, saving model to model_init_2022-06-1408_01_59.782233/model-00017-0.02109-0.99548-0.06580-0.98000.h5\n",
      "133/133 [==============================] - 37s 277ms/step - loss: 0.0211 - categorical_accuracy: 0.9955 - val_loss: 0.0658 - val_categorical_accuracy: 0.9800 - lr: 2.0000e-04\n",
      "Epoch 18/20\n",
      "133/133 [==============================] - ETA: 0s - loss: 0.0173 - categorical_accuracy: 0.9955\n",
      "Epoch 00018: val_loss did not improve from 0.06580\n",
      "133/133 [==============================] - 36s 271ms/step - loss: 0.0173 - categorical_accuracy: 0.9955 - val_loss: 0.1292 - val_categorical_accuracy: 0.9600 - lr: 2.0000e-04\n",
      "Epoch 19/20\n",
      "133/133 [==============================] - ETA: 0s - loss: 0.0374 - categorical_accuracy: 0.9910\n",
      "Epoch 00019: val_loss did not improve from 0.06580\n",
      "133/133 [==============================] - 36s 273ms/step - loss: 0.0374 - categorical_accuracy: 0.9910 - val_loss: 0.1178 - val_categorical_accuracy: 0.9600 - lr: 2.0000e-04\n",
      "Epoch 20/20\n",
      "133/133 [==============================] - ETA: 0s - loss: 0.0366 - categorical_accuracy: 0.9894\n",
      "Epoch 00020: val_loss did not improve from 0.06580\n",
      "133/133 [==============================] - 36s 272ms/step - loss: 0.0366 - categorical_accuracy: 0.9894 - val_loss: 0.1002 - val_categorical_accuracy: 0.9700 - lr: 2.0000e-04\n"
     ]
    }
   ],
   "source": [
    "print(\"Total Params:\", rnn_cnn_tl2_model.count_params())\n",
    "history_model7=rnn_cnn_tl2.train_model(rnn_cnn_tl2_model)"
   ]
  },
  {
   "cell_type": "code",
   "execution_count": 31,
   "id": "f16c9338",
   "metadata": {},
   "outputs": [
    {
     "data": {
      "image/png": "[encoded data removed]",
      "text/plain": [
       "<Figure size 1080x288 with 2 Axes>"
      ]
     },
     "metadata": {
      "needs_background": "light"
     },
     "output_type": "display_data"
    }
   ],
   "source": [
    "plot(history_model7)"
   ]
  },
  {
   "cell_type": "markdown",
   "id": "ca74591b",
   "metadata": {},
   "source": [
    "### Observaion\n",
    "The validation accuracy and training accuracy of final model are 98% of 99.55%."
   ]
  },
  {
   "cell_type": "markdown",
   "id": "8741daed",
   "metadata": {},
   "source": [
    "### Loading model and Testing"
   ]
  },
  {
   "cell_type": "code",
   "execution_count": 33,
   "id": "00516f33",
   "metadata": {},
   "outputs": [],
   "source": [
    "import time\n",
    "from keras.models import load_model\n",
    "model = load_model('model_init_2022-06-1408_01_59.782233/model-00017-0.02109-0.99548-0.06580-0.98000.h5')"
   ]
  },
  {
   "cell_type": "code",
   "execution_count": 34,
   "id": "d76aed8e",
   "metadata": {},
   "outputs": [],
   "source": [
    "test_generator=RNNCNN1()\n",
    "test_generator.initialize_path(project_folder)\n",
    "test_generator.initialize_image_properties(image_height=120,image_width=120)\n",
    "test_generator.initialize_hyperparams(frames_to_sample=16,batch_size=20,num_epochs=20)\n",
    "\n",
    "g=test_generator.generator(test_generator.val_path,test_generator.val_doc,augment=False)\n",
    "batch_data, batch_labels=next(g)"
   ]
  },
  {
   "cell_type": "code",
   "execution_count": 35,
   "id": "dbb73ba0",
   "metadata": {},
   "outputs": [
    {
     "data": {
      "text/plain": [
       "array([[0., 1., 0., 0., 0.],\n",
       "       [0., 0., 0., 0., 1.],\n",
       "       [0., 0., 0., 1., 0.],\n",
       "       [0., 1., 0., 0., 0.],\n",
       "       [0., 1., 0., 0., 0.],\n",
       "       [0., 1., 0., 0., 0.],\n",
       "       [1., 0., 0., 0., 0.],\n",
       "       [0., 1., 0., 0., 0.],\n",
       "       [0., 0., 1., 0., 0.],\n",
       "       [1., 0., 0., 0., 0.],\n",
       "       [0., 0., 0., 1., 0.],\n",
       "       [0., 0., 0., 1., 0.],\n",
       "       [0., 0., 1., 0., 0.],\n",
       "       [0., 1., 0., 0., 0.],\n",
       "       [1., 0., 0., 0., 0.],\n",
       "       [0., 0., 0., 0., 1.],\n",
       "       [1., 0., 0., 0., 0.],\n",
       "       [0., 0., 1., 0., 0.],\n",
       "       [0., 0., 0., 1., 0.],\n",
       "       [1., 0., 0., 0., 0.]])"
      ]
     },
     "execution_count": 35,
     "metadata": {},
     "output_type": "execute_result"
    }
   ],
   "source": [
    "batch_labels"
   ]
  },
  {
   "cell_type": "code",
   "execution_count": 36,
   "id": "cff593f5",
   "metadata": {},
   "outputs": [
    {
     "name": "stdout",
     "output_type": "stream",
     "text": [
      "[1 4 3 1 1 1 0 1 2 0 3 3 2 1 0 4 0 2 3 0]\n"
     ]
    }
   ],
   "source": [
    "print(np.argmax(model.predict(batch_data[:,:,:,:,:]),axis=1))"
   ]
  }
 ],
 "metadata": {
  "kernelspec": {
   "display_name": "Python 3 (ipykernel)",
   "language": "python",
   "name": "python3"
  },
  "language_info": {
   "codemirror_mode": {
    "name": "ipython",
    "version": 3
   },
   "file_extension": ".py",
   "mimetype": "text/x-python",
   "name": "python",
   "nbconvert_exporter": "python",
   "pygments_lexer": "ipython3",
   "version": "3.9.12"
  }
 },
 "nbformat": 4,
 "nbformat_minor": 5
}
